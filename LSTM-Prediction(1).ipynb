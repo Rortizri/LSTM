{
 "cells": [
  {
   "cell_type": "markdown",
   "id": "0f35ec42",
   "metadata": {},
   "source": [
    "# Importing Libraries"
   ]
  },
  {
   "cell_type": "code",
   "execution_count": 1,
   "id": "1c12f70c",
   "metadata": {},
   "outputs": [],
   "source": [
    "import math\n",
    "import pandas_datareader as web\n",
    "import numpy as np\n",
    "import pandas as pd\n",
    "from sklearn.preprocessing import MinMaxScaler\n",
    "from sklearn.metrics import r2_score\n",
    "from keras.models import Sequential\n",
    "from keras.layers import Dense, LSTM"
   ]
  },
  {
   "cell_type": "code",
   "execution_count": 2,
   "id": "273952a2",
   "metadata": {},
   "outputs": [],
   "source": [
    "df = pd.read_csv(r'C:\\Users\\user\\Desktop\\Dashboard\\data\\crypto.csv')"
   ]
  },
  {
   "cell_type": "code",
   "execution_count": 3,
   "id": "f39f16d0",
   "metadata": {},
   "outputs": [
    {
     "data": {
      "text/plain": [
       "['ETH-USD',\n",
       " 'BNB-USD',\n",
       " 'ADA-USD',\n",
       " 'SOL-USD',\n",
       " 'XRP-USD',\n",
       " 'LUNA1-USD',\n",
       " 'DOT-USD',\n",
       " 'DOGE-USD',\n",
       " 'AVAX-USD']"
      ]
     },
     "execution_count": 3,
     "metadata": {},
     "output_type": "execute_result"
    }
   ],
   "source": [
    "crypto = list(df['Crypto-USD'].unique())[1:]\n",
    "crypto"
   ]
  },
  {
   "cell_type": "markdown",
   "id": "a4db52cc",
   "metadata": {},
   "source": [
    "# Applying LSTM on BITCOIN"
   ]
  },
  {
   "cell_type": "code",
   "execution_count": 4,
   "id": "edd92c7a",
   "metadata": {},
   "outputs": [
    {
     "name": "stdout",
     "output_type": "stream",
     "text": [
      "Epoch 1/10\n",
      "417/417 [==============================] - 15s 37ms/step - loss: 1.7371e-04\n",
      "Epoch 2/10\n",
      "417/417 [==============================] - 18s 43ms/step - loss: 9.3291e-05\n",
      "Epoch 3/10\n",
      "417/417 [==============================] - 17s 41ms/step - loss: 6.5690e-05\n",
      "Epoch 4/10\n",
      "417/417 [==============================] - 17s 40ms/step - loss: 5.7540e-05\n",
      "Epoch 5/10\n",
      "417/417 [==============================] - 16s 38ms/step - loss: 4.8116e-05\n",
      "Epoch 6/10\n",
      "417/417 [==============================] - 16s 39ms/step - loss: 4.8628e-05\n",
      "Epoch 7/10\n",
      "417/417 [==============================] - 18s 44ms/step - loss: 3.9647e-05\n",
      "Epoch 8/10\n",
      "417/417 [==============================] - 16s 40ms/step - loss: 4.2983e-05\n",
      "Epoch 9/10\n",
      "417/417 [==============================] - 19s 45ms/step - loss: 3.4221e-05\n",
      "Epoch 10/10\n",
      "417/417 [==============================] - 17s 40ms/step - loss: 3.3822e-05\n"
     ]
    },
    {
     "name": "stderr",
     "output_type": "stream",
     "text": [
      "<ipython-input-4-18209b2d71bb>:70: SettingWithCopyWarning: \n",
      "A value is trying to be set on a copy of a slice from a DataFrame.\n",
      "Try using .loc[row_indexer,col_indexer] = value instead\n",
      "\n",
      "See the caveats in the documentation: https://pandas.pydata.org/pandas-docs/stable/user_guide/indexing.html#returning-a-view-versus-a-copy\n",
      "  valid[\"Predictions\"] = Predictions\n",
      "<ipython-input-4-18209b2d71bb>:72: SettingWithCopyWarning: \n",
      "A value is trying to be set on a copy of a slice from a DataFrame.\n",
      "Try using .loc[row_indexer,col_indexer] = value instead\n",
      "\n",
      "See the caveats in the documentation: https://pandas.pydata.org/pandas-docs/stable/user_guide/indexing.html#returning-a-view-versus-a-copy\n",
      "  train['Crypto-USD'] = 'BTC-USD'\n",
      "<ipython-input-4-18209b2d71bb>:73: SettingWithCopyWarning: \n",
      "A value is trying to be set on a copy of a slice from a DataFrame.\n",
      "Try using .loc[row_indexer,col_indexer] = value instead\n",
      "\n",
      "See the caveats in the documentation: https://pandas.pydata.org/pandas-docs/stable/user_guide/indexing.html#returning-a-view-versus-a-copy\n",
      "  valid['Crypto-USD'] = 'BTC-USD'\n"
     ]
    }
   ],
   "source": [
    "#Create a new data frame with only the Close Column\n",
    "data = df[df['Crypto-USD'] == 'BTC-USD'].filter([\"Close\"])\n",
    "#Convert te dataFrame to a numpy array\n",
    "dataset = data.values\n",
    "#Get the number of rows to train the model on\n",
    "training_data_len = math.ceil(len(dataset)*0.8)\n",
    "    \n",
    "#scale the data\n",
    "scaler = MinMaxScaler(feature_range = (0,1))\n",
    "scaled_data = scaler.fit_transform(dataset)\n",
    "    \n",
    "#Create The training data set\n",
    "#Create the scaled training data set\n",
    "\n",
    "train_data = scaled_data[0:training_data_len , :]\n",
    "#split the data into x_train and y_train data set\n",
    "x_train = []\n",
    "y_train = []\n",
    "\n",
    "for i in range(60 , len(train_data)):\n",
    "    x_train.append(train_data[i-60:i, 0])\n",
    "    y_train.append(train_data[i, 0])\n",
    "    \n",
    "#Convert the x_train and y_train to numpy arrays\n",
    "x_train, y_train = np.array(x_train), np.array(y_train)\n",
    "    \n",
    "#REshape the data\n",
    "x_train = np.reshape(x_train, (x_train.shape[0], x_train.shape[1],1))\n",
    "    \n",
    "#Build the LSTM model\n",
    "model = Sequential()\n",
    "model.add(LSTM(50, return_sequences = True, input_shape = (x_train.shape[1],1)))\n",
    "model.add(LSTM(50, return_sequences = False))\n",
    "model.add(Dense(25))\n",
    "model.add(Dense(1))\n",
    "\n",
    "#compil the model\n",
    "model.compile(optimizer = \"adam\" , loss = \"mean_squared_error\")\n",
    "\n",
    "#Train the model\n",
    "model.fit(x_train, y_train, batch_size=5, epochs=10)\n",
    "#Create the testing data set\n",
    "#Create a new array containing scaled values from index 1543 to 2003\n",
    "test_data = scaled_data[training_data_len - 60 : , :]\n",
    "#Create the data sets x_test and y_test\n",
    "x_test = []\n",
    "y_test = dataset[training_data_len:, :]\n",
    "for i in range(60 , len(test_data)):\n",
    "    x_test.append(test_data[i-60:i,0])\n",
    "    \n",
    "#convert the data to a numpy array\n",
    "x_test = np.array(x_test)\n",
    "    \n",
    "#reshape the data because LSTM expect 3 dimentional\n",
    "x_test = np.reshape(x_test, (x_test.shape[0], x_test.shape[1],1))\n",
    "\n",
    "#get the models predicted price values\n",
    "Predictions = model.predict(x_test)\n",
    "Predictions = scaler.inverse_transform(Predictions)\n",
    "#we want prediction to contain the same values as y_test\n",
    "rmse = []\n",
    "r_square  = []\n",
    "    \n",
    "rmse.append(np.sqrt(np.mean(Predictions - y_test)**2))\n",
    "r_square.append(r2_score(y_test,Predictions))\n",
    "    \n",
    "#Plot the data\n",
    "train = data[:training_data_len]\n",
    "valid = data[training_data_len:]\n",
    "valid[\"Predictions\"] = Predictions\n",
    "\n",
    "train['Crypto-USD'] = 'BTC-USD'\n",
    "valid['Crypto-USD'] = 'BTC-USD'"
   ]
  },
  {
   "cell_type": "code",
   "execution_count": 5,
   "id": "ad70e9e6",
   "metadata": {},
   "outputs": [
    {
     "data": {
      "text/html": [
       "<div>\n",
       "<style scoped>\n",
       "    .dataframe tbody tr th:only-of-type {\n",
       "        vertical-align: middle;\n",
       "    }\n",
       "\n",
       "    .dataframe tbody tr th {\n",
       "        vertical-align: top;\n",
       "    }\n",
       "\n",
       "    .dataframe thead th {\n",
       "        text-align: right;\n",
       "    }\n",
       "</style>\n",
       "<table border=\"1\" class=\"dataframe\">\n",
       "  <thead>\n",
       "    <tr style=\"text-align: right;\">\n",
       "      <th></th>\n",
       "      <th>Close</th>\n",
       "      <th>Predictions</th>\n",
       "      <th>Crypto-USD</th>\n",
       "    </tr>\n",
       "  </thead>\n",
       "  <tbody>\n",
       "    <tr>\n",
       "      <th>2143</th>\n",
       "      <td>11111.213867</td>\n",
       "      <td>10944.210938</td>\n",
       "      <td>BTC-USD</td>\n",
       "    </tr>\n",
       "    <tr>\n",
       "      <th>2144</th>\n",
       "      <td>11323.466797</td>\n",
       "      <td>10951.977539</td>\n",
       "      <td>BTC-USD</td>\n",
       "    </tr>\n",
       "    <tr>\n",
       "      <th>2145</th>\n",
       "      <td>11759.592773</td>\n",
       "      <td>11141.704102</td>\n",
       "      <td>BTC-USD</td>\n",
       "    </tr>\n",
       "    <tr>\n",
       "      <th>2146</th>\n",
       "      <td>11053.614258</td>\n",
       "      <td>11554.143555</td>\n",
       "      <td>BTC-USD</td>\n",
       "    </tr>\n",
       "    <tr>\n",
       "      <th>2147</th>\n",
       "      <td>11246.348633</td>\n",
       "      <td>10952.218750</td>\n",
       "      <td>BTC-USD</td>\n",
       "    </tr>\n",
       "    <tr>\n",
       "      <th>...</th>\n",
       "      <td>...</td>\n",
       "      <td>...</td>\n",
       "      <td>...</td>\n",
       "    </tr>\n",
       "    <tr>\n",
       "      <th>2673</th>\n",
       "      <td>42735.855469</td>\n",
       "      <td>38948.812500</td>\n",
       "      <td>BTC-USD</td>\n",
       "    </tr>\n",
       "    <tr>\n",
       "      <th>2674</th>\n",
       "      <td>43949.101562</td>\n",
       "      <td>40013.957031</td>\n",
       "      <td>BTC-USD</td>\n",
       "    </tr>\n",
       "    <tr>\n",
       "      <th>2675</th>\n",
       "      <td>42591.570312</td>\n",
       "      <td>41226.343750</td>\n",
       "      <td>BTC-USD</td>\n",
       "    </tr>\n",
       "    <tr>\n",
       "      <th>2676</th>\n",
       "      <td>43099.699219</td>\n",
       "      <td>39307.988281</td>\n",
       "      <td>BTC-USD</td>\n",
       "    </tr>\n",
       "    <tr>\n",
       "      <th>2677</th>\n",
       "      <td>43177.398438</td>\n",
       "      <td>40143.578125</td>\n",
       "      <td>BTC-USD</td>\n",
       "    </tr>\n",
       "  </tbody>\n",
       "</table>\n",
       "<p>535 rows × 3 columns</p>\n",
       "</div>"
      ],
      "text/plain": [
       "             Close   Predictions Crypto-USD\n",
       "2143  11111.213867  10944.210938    BTC-USD\n",
       "2144  11323.466797  10951.977539    BTC-USD\n",
       "2145  11759.592773  11141.704102    BTC-USD\n",
       "2146  11053.614258  11554.143555    BTC-USD\n",
       "2147  11246.348633  10952.218750    BTC-USD\n",
       "...            ...           ...        ...\n",
       "2673  42735.855469  38948.812500    BTC-USD\n",
       "2674  43949.101562  40013.957031    BTC-USD\n",
       "2675  42591.570312  41226.343750    BTC-USD\n",
       "2676  43099.699219  39307.988281    BTC-USD\n",
       "2677  43177.398438  40143.578125    BTC-USD\n",
       "\n",
       "[535 rows x 3 columns]"
      ]
     },
     "execution_count": 5,
     "metadata": {},
     "output_type": "execute_result"
    }
   ],
   "source": [
    "valid"
   ]
  },
  {
   "cell_type": "markdown",
   "id": "e828dbc4",
   "metadata": {},
   "source": [
    "# Applying LSTM on other crytos using a loop"
   ]
  },
  {
   "cell_type": "code",
   "execution_count": 6,
   "id": "f2253128",
   "metadata": {},
   "outputs": [
    {
     "name": "stdout",
     "output_type": "stream",
     "text": [
      "Epoch 1/10\n",
      "233/233 [==============================] - 10s 42ms/step - loss: 7.6517e-04\n",
      "Epoch 2/10\n",
      "233/233 [==============================] - 8s 36ms/step - loss: 3.1219e-04\n",
      "Epoch 3/10\n",
      "233/233 [==============================] - 12s 49ms/step - loss: 2.0543e-04\n",
      "Epoch 4/10\n",
      "233/233 [==============================] - 8s 36ms/step - loss: 1.8743e-04\n",
      "Epoch 5/10\n",
      "233/233 [==============================] - 8s 33ms/step - loss: 1.6000e-04\n",
      "Epoch 6/10\n",
      "233/233 [==============================] - 10s 44ms/step - loss: 1.5469e-04\n",
      "Epoch 7/10\n",
      "233/233 [==============================] - 9s 40ms/step - loss: 1.4803e-04\n",
      "Epoch 8/10\n",
      "233/233 [==============================] - 11s 45ms/step - loss: 1.0843e-04\n",
      "Epoch 9/10\n",
      "233/233 [==============================] - 8s 34ms/step - loss: 1.0001e-04\n",
      "Epoch 10/10\n",
      "233/233 [==============================] - 9s 39ms/step - loss: 1.0655e-04\n"
     ]
    },
    {
     "name": "stderr",
     "output_type": "stream",
     "text": [
      "<ipython-input-6-a6ee6784117e>:71: SettingWithCopyWarning: \n",
      "A value is trying to be set on a copy of a slice from a DataFrame.\n",
      "Try using .loc[row_indexer,col_indexer] = value instead\n",
      "\n",
      "See the caveats in the documentation: https://pandas.pydata.org/pandas-docs/stable/user_guide/indexing.html#returning-a-view-versus-a-copy\n",
      "  valid1[\"Predictions\"] = Predictions\n",
      "<ipython-input-6-a6ee6784117e>:73: SettingWithCopyWarning: \n",
      "A value is trying to be set on a copy of a slice from a DataFrame.\n",
      "Try using .loc[row_indexer,col_indexer] = value instead\n",
      "\n",
      "See the caveats in the documentation: https://pandas.pydata.org/pandas-docs/stable/user_guide/indexing.html#returning-a-view-versus-a-copy\n",
      "  train1['Crypto-USD'] = coin\n",
      "<ipython-input-6-a6ee6784117e>:74: SettingWithCopyWarning: \n",
      "A value is trying to be set on a copy of a slice from a DataFrame.\n",
      "Try using .loc[row_indexer,col_indexer] = value instead\n",
      "\n",
      "See the caveats in the documentation: https://pandas.pydata.org/pandas-docs/stable/user_guide/indexing.html#returning-a-view-versus-a-copy\n",
      "  valid1['Crypto-USD'] = coin\n"
     ]
    },
    {
     "name": "stdout",
     "output_type": "stream",
     "text": [
      "Epoch 1/10\n",
      "233/233 [==============================] - 9s 39ms/step - loss: 4.6106e-04\n",
      "Epoch 2/10\n",
      "233/233 [==============================] - 8s 35ms/step - loss: 3.7467e-04\n",
      "Epoch 3/10\n",
      "233/233 [==============================] - 9s 39ms/step - loss: 2.2680e-04\n",
      "Epoch 4/10\n",
      "233/233 [==============================] - 8s 35ms/step - loss: 1.9797e-04\n",
      "Epoch 5/10\n",
      "233/233 [==============================] - 9s 37ms/step - loss: 2.0080e-04\n",
      "Epoch 6/10\n",
      "233/233 [==============================] - 8s 35ms/step - loss: 2.3189e-04\n",
      "Epoch 7/10\n",
      "233/233 [==============================] - 9s 41ms/step - loss: 2.3219e-04: 0s - loss: 2.3546e\n",
      "Epoch 8/10\n",
      "233/233 [==============================] - 10s 41ms/step - loss: 1.7417e-04\n",
      "Epoch 9/10\n",
      "233/233 [==============================] - 10s 42ms/step - loss: 1.4940e-04\n",
      "Epoch 10/10\n",
      "233/233 [==============================] - 9s 38ms/step - loss: 1.4755e-04: 1s - l\n"
     ]
    },
    {
     "name": "stderr",
     "output_type": "stream",
     "text": [
      "<ipython-input-6-a6ee6784117e>:71: SettingWithCopyWarning: \n",
      "A value is trying to be set on a copy of a slice from a DataFrame.\n",
      "Try using .loc[row_indexer,col_indexer] = value instead\n",
      "\n",
      "See the caveats in the documentation: https://pandas.pydata.org/pandas-docs/stable/user_guide/indexing.html#returning-a-view-versus-a-copy\n",
      "  valid1[\"Predictions\"] = Predictions\n",
      "<ipython-input-6-a6ee6784117e>:73: SettingWithCopyWarning: \n",
      "A value is trying to be set on a copy of a slice from a DataFrame.\n",
      "Try using .loc[row_indexer,col_indexer] = value instead\n",
      "\n",
      "See the caveats in the documentation: https://pandas.pydata.org/pandas-docs/stable/user_guide/indexing.html#returning-a-view-versus-a-copy\n",
      "  train1['Crypto-USD'] = coin\n",
      "<ipython-input-6-a6ee6784117e>:74: SettingWithCopyWarning: \n",
      "A value is trying to be set on a copy of a slice from a DataFrame.\n",
      "Try using .loc[row_indexer,col_indexer] = value instead\n",
      "\n",
      "See the caveats in the documentation: https://pandas.pydata.org/pandas-docs/stable/user_guide/indexing.html#returning-a-view-versus-a-copy\n",
      "  valid1['Crypto-USD'] = coin\n"
     ]
    },
    {
     "name": "stdout",
     "output_type": "stream",
     "text": [
      "Epoch 1/10\n",
      "233/233 [==============================] - 9s 39ms/step - loss: 7.5321e-04\n",
      "Epoch 2/10\n",
      "233/233 [==============================] - 8s 36ms/step - loss: 3.0036e-04\n",
      "Epoch 3/10\n",
      "233/233 [==============================] - 9s 41ms/step - loss: 2.2929e-04\n",
      "Epoch 4/10\n",
      "233/233 [==============================] - 9s 37ms/step - loss: 2.5693e-04\n",
      "Epoch 5/10\n",
      "233/233 [==============================] - 10s 41ms/step - loss: 1.7755e-04\n",
      "Epoch 6/10\n",
      "233/233 [==============================] - 9s 40ms/step - loss: 1.7545e-04\n",
      "Epoch 7/10\n",
      "233/233 [==============================] - 9s 37ms/step - loss: 1.4913e-04\n",
      "Epoch 8/10\n",
      "233/233 [==============================] - 8s 36ms/step - loss: 1.4360e-04\n",
      "Epoch 9/10\n",
      "233/233 [==============================] - 9s 38ms/step - loss: 1.3545e-04\n",
      "Epoch 10/10\n",
      "233/233 [==============================] - 8s 35ms/step - loss: 1.5368e-04\n"
     ]
    },
    {
     "name": "stderr",
     "output_type": "stream",
     "text": [
      "<ipython-input-6-a6ee6784117e>:71: SettingWithCopyWarning: \n",
      "A value is trying to be set on a copy of a slice from a DataFrame.\n",
      "Try using .loc[row_indexer,col_indexer] = value instead\n",
      "\n",
      "See the caveats in the documentation: https://pandas.pydata.org/pandas-docs/stable/user_guide/indexing.html#returning-a-view-versus-a-copy\n",
      "  valid1[\"Predictions\"] = Predictions\n",
      "<ipython-input-6-a6ee6784117e>:73: SettingWithCopyWarning: \n",
      "A value is trying to be set on a copy of a slice from a DataFrame.\n",
      "Try using .loc[row_indexer,col_indexer] = value instead\n",
      "\n",
      "See the caveats in the documentation: https://pandas.pydata.org/pandas-docs/stable/user_guide/indexing.html#returning-a-view-versus-a-copy\n",
      "  train1['Crypto-USD'] = coin\n",
      "<ipython-input-6-a6ee6784117e>:74: SettingWithCopyWarning: \n",
      "A value is trying to be set on a copy of a slice from a DataFrame.\n",
      "Try using .loc[row_indexer,col_indexer] = value instead\n",
      "\n",
      "See the caveats in the documentation: https://pandas.pydata.org/pandas-docs/stable/user_guide/indexing.html#returning-a-view-versus-a-copy\n",
      "  valid1['Crypto-USD'] = coin\n"
     ]
    },
    {
     "name": "stdout",
     "output_type": "stream",
     "text": [
      "Epoch 1/10\n",
      "92/92 [==============================] - 3s 34ms/step - loss: 0.0036\n",
      "Epoch 2/10\n",
      "92/92 [==============================] - 3s 38ms/step - loss: 5.8573e-04\n",
      "Epoch 3/10\n",
      "92/92 [==============================] - 5s 50ms/step - loss: 3.5445e-04\n",
      "Epoch 4/10\n",
      "92/92 [==============================] - 3s 38ms/step - loss: 4.0556e-04\n",
      "Epoch 5/10\n",
      "92/92 [==============================] - 4s 39ms/step - loss: 4.0590e-04\n",
      "Epoch 6/10\n",
      "92/92 [==============================] - 4s 42ms/step - loss: 4.3534e-04\n",
      "Epoch 7/10\n",
      "92/92 [==============================] - 3s 34ms/step - loss: 2.7037e-04\n",
      "Epoch 8/10\n",
      "92/92 [==============================] - 4s 41ms/step - loss: 2.9782e-04\n",
      "Epoch 9/10\n",
      "92/92 [==============================] - 4s 44ms/step - loss: 4.0227e-04\n",
      "Epoch 10/10\n",
      "92/92 [==============================] - 3s 32ms/step - loss: 3.0856e-04\n"
     ]
    },
    {
     "name": "stderr",
     "output_type": "stream",
     "text": [
      "<ipython-input-6-a6ee6784117e>:71: SettingWithCopyWarning: \n",
      "A value is trying to be set on a copy of a slice from a DataFrame.\n",
      "Try using .loc[row_indexer,col_indexer] = value instead\n",
      "\n",
      "See the caveats in the documentation: https://pandas.pydata.org/pandas-docs/stable/user_guide/indexing.html#returning-a-view-versus-a-copy\n",
      "  valid1[\"Predictions\"] = Predictions\n",
      "<ipython-input-6-a6ee6784117e>:73: SettingWithCopyWarning: \n",
      "A value is trying to be set on a copy of a slice from a DataFrame.\n",
      "Try using .loc[row_indexer,col_indexer] = value instead\n",
      "\n",
      "See the caveats in the documentation: https://pandas.pydata.org/pandas-docs/stable/user_guide/indexing.html#returning-a-view-versus-a-copy\n",
      "  train1['Crypto-USD'] = coin\n",
      "<ipython-input-6-a6ee6784117e>:74: SettingWithCopyWarning: \n",
      "A value is trying to be set on a copy of a slice from a DataFrame.\n",
      "Try using .loc[row_indexer,col_indexer] = value instead\n",
      "\n",
      "See the caveats in the documentation: https://pandas.pydata.org/pandas-docs/stable/user_guide/indexing.html#returning-a-view-versus-a-copy\n",
      "  valid1['Crypto-USD'] = coin\n"
     ]
    },
    {
     "name": "stdout",
     "output_type": "stream",
     "text": [
      "Epoch 1/10\n",
      "233/233 [==============================] - 8s 35ms/step - loss: 7.3209e-04: 0s - loss: 7.32\n",
      "Epoch 2/10\n",
      "233/233 [==============================] - 10s 42ms/step - loss: 3.6774e-04\n",
      "Epoch 3/10\n",
      "233/233 [==============================] - 9s 38ms/step - loss: 3.6283e-04\n",
      "Epoch 4/10\n",
      "233/233 [==============================] - 9s 39ms/step - loss: 3.7822e-04\n",
      "Epoch 5/10\n",
      "233/233 [==============================] - 8s 35ms/step - loss: 2.6325e-04\n",
      "Epoch 6/10\n",
      "233/233 [==============================] - 8s 36ms/step - loss: 2.8575e-04\n",
      "Epoch 7/10\n",
      "233/233 [==============================] - 8s 34ms/step - loss: 3.0092e-04\n",
      "Epoch 8/10\n",
      "233/233 [==============================] - 8s 36ms/step - loss: 2.2869e-04\n",
      "Epoch 9/10\n",
      "233/233 [==============================] - 9s 39ms/step - loss: 2.4403e-04\n",
      "Epoch 10/10\n",
      "233/233 [==============================] - 9s 40ms/step - loss: 2.1318e-04\n"
     ]
    },
    {
     "name": "stderr",
     "output_type": "stream",
     "text": [
      "<ipython-input-6-a6ee6784117e>:71: SettingWithCopyWarning: \n",
      "A value is trying to be set on a copy of a slice from a DataFrame.\n",
      "Try using .loc[row_indexer,col_indexer] = value instead\n",
      "\n",
      "See the caveats in the documentation: https://pandas.pydata.org/pandas-docs/stable/user_guide/indexing.html#returning-a-view-versus-a-copy\n",
      "  valid1[\"Predictions\"] = Predictions\n",
      "<ipython-input-6-a6ee6784117e>:73: SettingWithCopyWarning: \n",
      "A value is trying to be set on a copy of a slice from a DataFrame.\n",
      "Try using .loc[row_indexer,col_indexer] = value instead\n",
      "\n",
      "See the caveats in the documentation: https://pandas.pydata.org/pandas-docs/stable/user_guide/indexing.html#returning-a-view-versus-a-copy\n",
      "  train1['Crypto-USD'] = coin\n",
      "<ipython-input-6-a6ee6784117e>:74: SettingWithCopyWarning: \n",
      "A value is trying to be set on a copy of a slice from a DataFrame.\n",
      "Try using .loc[row_indexer,col_indexer] = value instead\n",
      "\n",
      "See the caveats in the documentation: https://pandas.pydata.org/pandas-docs/stable/user_guide/indexing.html#returning-a-view-versus-a-copy\n",
      "  valid1['Crypto-USD'] = coin\n"
     ]
    },
    {
     "name": "stdout",
     "output_type": "stream",
     "text": [
      "Epoch 1/10\n",
      "133/133 [==============================] - 5s 37ms/step - loss: 3.3475e-04\n",
      "Epoch 2/10\n",
      "133/133 [==============================] - 5s 39ms/step - loss: 1.3519e-04\n",
      "Epoch 3/10\n",
      "133/133 [==============================] - 6s 44ms/step - loss: 1.2615e-04: 0s - loss: \n",
      "Epoch 4/10\n",
      "133/133 [==============================] - 5s 39ms/step - loss: 1.0183e-04\n",
      "Epoch 5/10\n",
      "133/133 [==============================] - 6s 44ms/step - loss: 1.1025e-04\n",
      "Epoch 6/10\n",
      "133/133 [==============================] - 5s 41ms/step - loss: 9.5778e-05\n",
      "Epoch 7/10\n",
      "133/133 [==============================] - 5s 41ms/step - loss: 7.6721e-05\n",
      "Epoch 8/10\n",
      "133/133 [==============================] - 6s 43ms/step - loss: 7.2901e-05\n",
      "Epoch 9/10\n",
      "133/133 [==============================] - 7s 51ms/step - loss: 8.0553e-05\n",
      "Epoch 10/10\n",
      "133/133 [==============================] - 6s 44ms/step - loss: 6.0222e-05\n"
     ]
    },
    {
     "name": "stderr",
     "output_type": "stream",
     "text": [
      "<ipython-input-6-a6ee6784117e>:71: SettingWithCopyWarning: \n",
      "A value is trying to be set on a copy of a slice from a DataFrame.\n",
      "Try using .loc[row_indexer,col_indexer] = value instead\n",
      "\n",
      "See the caveats in the documentation: https://pandas.pydata.org/pandas-docs/stable/user_guide/indexing.html#returning-a-view-versus-a-copy\n",
      "  valid1[\"Predictions\"] = Predictions\n",
      "<ipython-input-6-a6ee6784117e>:73: SettingWithCopyWarning: \n",
      "A value is trying to be set on a copy of a slice from a DataFrame.\n",
      "Try using .loc[row_indexer,col_indexer] = value instead\n",
      "\n",
      "See the caveats in the documentation: https://pandas.pydata.org/pandas-docs/stable/user_guide/indexing.html#returning-a-view-versus-a-copy\n",
      "  train1['Crypto-USD'] = coin\n",
      "<ipython-input-6-a6ee6784117e>:74: SettingWithCopyWarning: \n",
      "A value is trying to be set on a copy of a slice from a DataFrame.\n",
      "Try using .loc[row_indexer,col_indexer] = value instead\n",
      "\n",
      "See the caveats in the documentation: https://pandas.pydata.org/pandas-docs/stable/user_guide/indexing.html#returning-a-view-versus-a-copy\n",
      "  valid1['Crypto-USD'] = coin\n"
     ]
    },
    {
     "name": "stdout",
     "output_type": "stream",
     "text": [
      "Epoch 1/10\n",
      "70/70 [==============================] - 3s 42ms/step - loss: 0.0176\n",
      "Epoch 2/10\n",
      "70/70 [==============================] - 3s 41ms/step - loss: 0.0054\n",
      "Epoch 3/10\n",
      "70/70 [==============================] - 3s 42ms/step - loss: 0.0052\n",
      "Epoch 4/10\n",
      "70/70 [==============================] - 3s 41ms/step - loss: 0.0055\n",
      "Epoch 5/10\n",
      "70/70 [==============================] - 3s 40ms/step - loss: 0.0043\n",
      "Epoch 6/10\n",
      "70/70 [==============================] - 3s 43ms/step - loss: 0.0037\n",
      "Epoch 7/10\n",
      "70/70 [==============================] - 3s 39ms/step - loss: 0.0039\n",
      "Epoch 8/10\n",
      "70/70 [==============================] - 2s 32ms/step - loss: 0.0034\n",
      "Epoch 9/10\n",
      "70/70 [==============================] - 3s 39ms/step - loss: 0.0036\n",
      "Epoch 10/10\n",
      "70/70 [==============================] - 3s 39ms/step - loss: 0.0028\n"
     ]
    },
    {
     "name": "stderr",
     "output_type": "stream",
     "text": [
      "<ipython-input-6-a6ee6784117e>:71: SettingWithCopyWarning: \n",
      "A value is trying to be set on a copy of a slice from a DataFrame.\n",
      "Try using .loc[row_indexer,col_indexer] = value instead\n",
      "\n",
      "See the caveats in the documentation: https://pandas.pydata.org/pandas-docs/stable/user_guide/indexing.html#returning-a-view-versus-a-copy\n",
      "  valid1[\"Predictions\"] = Predictions\n",
      "<ipython-input-6-a6ee6784117e>:73: SettingWithCopyWarning: \n",
      "A value is trying to be set on a copy of a slice from a DataFrame.\n",
      "Try using .loc[row_indexer,col_indexer] = value instead\n",
      "\n",
      "See the caveats in the documentation: https://pandas.pydata.org/pandas-docs/stable/user_guide/indexing.html#returning-a-view-versus-a-copy\n",
      "  train1['Crypto-USD'] = coin\n",
      "<ipython-input-6-a6ee6784117e>:74: SettingWithCopyWarning: \n",
      "A value is trying to be set on a copy of a slice from a DataFrame.\n",
      "Try using .loc[row_indexer,col_indexer] = value instead\n",
      "\n",
      "See the caveats in the documentation: https://pandas.pydata.org/pandas-docs/stable/user_guide/indexing.html#returning-a-view-versus-a-copy\n",
      "  valid1['Crypto-USD'] = coin\n"
     ]
    },
    {
     "name": "stdout",
     "output_type": "stream",
     "text": [
      "Epoch 1/10\n",
      "233/233 [==============================] - 9s 40ms/step - loss: 7.3571e-05\n",
      "Epoch 2/10\n",
      "233/233 [==============================] - 11s 49ms/step - loss: 3.1493e-05\n",
      "Epoch 3/10\n",
      "233/233 [==============================] - 10s 42ms/step - loss: 1.9737e-05\n",
      "Epoch 4/10\n",
      "233/233 [==============================] - 11s 46ms/step - loss: 1.8185e-05\n",
      "Epoch 5/10\n",
      "233/233 [==============================] - 10s 45ms/step - loss: 1.8156e-05\n",
      "Epoch 6/10\n",
      "233/233 [==============================] - 11s 49ms/step - loss: 1.7152e-05\n",
      "Epoch 7/10\n",
      "233/233 [==============================] - 11s 49ms/step - loss: 1.6680e-05\n",
      "Epoch 8/10\n",
      "233/233 [==============================] - 11s 45ms/step - loss: 1.6177e-05\n",
      "Epoch 9/10\n",
      "233/233 [==============================] - 10s 44ms/step - loss: 1.4040e-05\n",
      "Epoch 10/10\n",
      "233/233 [==============================] - 10s 44ms/step - loss: 1.3448e-05\n"
     ]
    },
    {
     "name": "stderr",
     "output_type": "stream",
     "text": [
      "<ipython-input-6-a6ee6784117e>:71: SettingWithCopyWarning: \n",
      "A value is trying to be set on a copy of a slice from a DataFrame.\n",
      "Try using .loc[row_indexer,col_indexer] = value instead\n",
      "\n",
      "See the caveats in the documentation: https://pandas.pydata.org/pandas-docs/stable/user_guide/indexing.html#returning-a-view-versus-a-copy\n",
      "  valid1[\"Predictions\"] = Predictions\n",
      "<ipython-input-6-a6ee6784117e>:73: SettingWithCopyWarning: \n",
      "A value is trying to be set on a copy of a slice from a DataFrame.\n",
      "Try using .loc[row_indexer,col_indexer] = value instead\n",
      "\n",
      "See the caveats in the documentation: https://pandas.pydata.org/pandas-docs/stable/user_guide/indexing.html#returning-a-view-versus-a-copy\n",
      "  train1['Crypto-USD'] = coin\n",
      "<ipython-input-6-a6ee6784117e>:74: SettingWithCopyWarning: \n",
      "A value is trying to be set on a copy of a slice from a DataFrame.\n",
      "Try using .loc[row_indexer,col_indexer] = value instead\n",
      "\n",
      "See the caveats in the documentation: https://pandas.pydata.org/pandas-docs/stable/user_guide/indexing.html#returning-a-view-versus-a-copy\n",
      "  valid1['Crypto-USD'] = coin\n"
     ]
    },
    {
     "name": "stdout",
     "output_type": "stream",
     "text": [
      "Epoch 1/10\n",
      "66/66 [==============================] - 2s 33ms/step - loss: 0.0072\n",
      "Epoch 2/10\n",
      "66/66 [==============================] - 3s 38ms/step - loss: 0.0024\n",
      "Epoch 3/10\n",
      "66/66 [==============================] - 3s 40ms/step - loss: 0.0019\n",
      "Epoch 4/10\n",
      "66/66 [==============================] - 3s 40ms/step - loss: 0.0017\n",
      "Epoch 5/10\n",
      "66/66 [==============================] - 3s 45ms/step - loss: 0.0016\n",
      "Epoch 6/10\n",
      "66/66 [==============================] - 3s 47ms/step - loss: 0.0014\n",
      "Epoch 7/10\n",
      "66/66 [==============================] - 2s 32ms/step - loss: 0.0016\n",
      "Epoch 8/10\n",
      "66/66 [==============================] - 3s 40ms/step - loss: 0.0011\n",
      "Epoch 9/10\n",
      "66/66 [==============================] - 3s 45ms/step - loss: 0.0011\n",
      "Epoch 10/10\n",
      "66/66 [==============================] - 3s 42ms/step - loss: 0.0012\n"
     ]
    },
    {
     "name": "stderr",
     "output_type": "stream",
     "text": [
      "<ipython-input-6-a6ee6784117e>:71: SettingWithCopyWarning: \n",
      "A value is trying to be set on a copy of a slice from a DataFrame.\n",
      "Try using .loc[row_indexer,col_indexer] = value instead\n",
      "\n",
      "See the caveats in the documentation: https://pandas.pydata.org/pandas-docs/stable/user_guide/indexing.html#returning-a-view-versus-a-copy\n",
      "  valid1[\"Predictions\"] = Predictions\n",
      "<ipython-input-6-a6ee6784117e>:73: SettingWithCopyWarning: \n",
      "A value is trying to be set on a copy of a slice from a DataFrame.\n",
      "Try using .loc[row_indexer,col_indexer] = value instead\n",
      "\n",
      "See the caveats in the documentation: https://pandas.pydata.org/pandas-docs/stable/user_guide/indexing.html#returning-a-view-versus-a-copy\n",
      "  train1['Crypto-USD'] = coin\n",
      "<ipython-input-6-a6ee6784117e>:74: SettingWithCopyWarning: \n",
      "A value is trying to be set on a copy of a slice from a DataFrame.\n",
      "Try using .loc[row_indexer,col_indexer] = value instead\n",
      "\n",
      "See the caveats in the documentation: https://pandas.pydata.org/pandas-docs/stable/user_guide/indexing.html#returning-a-view-versus-a-copy\n",
      "  valid1['Crypto-USD'] = coin\n"
     ]
    }
   ],
   "source": [
    "for coin in crypto:\n",
    "    #Create a new data frame with only the Close Column\n",
    "    data = df[df['Crypto-USD'] == coin].filter([\"Close\"])\n",
    "    #Convert te dataFrame to a numpy array\n",
    "    dataset = data.values\n",
    "    #Get the number of rows to train the model on\n",
    "    training_data_len = math.ceil(len(dataset)*0.8)\n",
    "    \n",
    "    #scale the data\n",
    "    scaler = MinMaxScaler(feature_range = (0,1))\n",
    "    scaled_data = scaler.fit_transform(dataset)\n",
    "\n",
    "    #Create The training data set\n",
    "    #Create the scaled training data set\n",
    "\n",
    "    train_data = scaled_data[0:training_data_len , :]\n",
    "    #split the data into x_train and y_train data set\n",
    "    x_train = []\n",
    "    y_train = []\n",
    "\n",
    "    for i in range(60 , len(train_data)):\n",
    "        x_train.append(train_data[i-60:i, 0])\n",
    "        y_train.append(train_data[i, 0])\n",
    "    \n",
    "    #Convert the x_train and y_train to numpy arrays\n",
    "    x_train, y_train = np.array(x_train), np.array(y_train)\n",
    "    \n",
    "    #REshape the data\n",
    "    x_train = np.reshape(x_train, (x_train.shape[0], x_train.shape[1],1))\n",
    "    \n",
    "    #Build the LSTM model\n",
    "    model = Sequential()\n",
    "    model.add(LSTM(50, return_sequences = True, input_shape = (x_train.shape[1],1)))\n",
    "    model.add(LSTM(50, return_sequences = False))\n",
    "    model.add(Dense(25))\n",
    "    model.add(Dense(1))\n",
    "    \n",
    "    #compil the model\n",
    "    model.compile(optimizer = \"adam\" , loss = \"mean_squared_error\")\n",
    "    \n",
    "    #Train the model\n",
    "    model.fit(x_train, y_train, batch_size=5, epochs=10)\n",
    "    \n",
    "    #Create the testing data set\n",
    "    #Create a new array containing scaled values from index 1543 to 2003\n",
    "    test_data = scaled_data[training_data_len - 60 : , :]\n",
    "    #Create the data sets x_test and y_test\n",
    "    x_test = []\n",
    "    y_test = dataset[training_data_len:, :]\n",
    "    for i in range(60 , len(test_data)):\n",
    "        x_test.append(test_data[i-60:i,0])\n",
    "    \n",
    "    #convert the data to a numpy array\n",
    "    x_test = np.array(x_test)\n",
    "    \n",
    "    #reshape the data because LSTM expect 3 dimentional\n",
    "    x_test = np.reshape(x_test, (x_test.shape[0], x_test.shape[1],1))\n",
    "    \n",
    "    #get the models predicted price values\n",
    "    Predictions = model.predict(x_test)\n",
    "    Predictions = scaler.inverse_transform(Predictions)\n",
    "    #we want prediction to contain the same values as y_test\n",
    "    \n",
    "    \n",
    "    \n",
    "    rmse.append(np.sqrt(np.mean(Predictions - y_test)**2))\n",
    "    r_square.append(r2_score(y_test,Predictions))\n",
    "    \n",
    "    train1 = data[:training_data_len]\n",
    "    valid1 = data[training_data_len:]\n",
    "    valid1[\"Predictions\"] = Predictions\n",
    "    \n",
    "    train1['Crypto-USD'] = coin\n",
    "    valid1['Crypto-USD'] = coin\n",
    "    \n",
    "    train = pd.concat([train,train1])\n",
    "    valid = pd.concat([valid,valid1])\n",
    "    "
   ]
  },
  {
   "cell_type": "code",
   "execution_count": 7,
   "id": "42e4dc97",
   "metadata": {},
   "outputs": [
    {
     "data": {
      "text/html": [
       "<div>\n",
       "<style scoped>\n",
       "    .dataframe tbody tr th:only-of-type {\n",
       "        vertical-align: middle;\n",
       "    }\n",
       "\n",
       "    .dataframe tbody tr th {\n",
       "        vertical-align: top;\n",
       "    }\n",
       "\n",
       "    .dataframe thead th {\n",
       "        text-align: right;\n",
       "    }\n",
       "</style>\n",
       "<table border=\"1\" class=\"dataframe\">\n",
       "  <thead>\n",
       "    <tr style=\"text-align: right;\">\n",
       "      <th></th>\n",
       "      <th>Close</th>\n",
       "      <th>Crypto-USD</th>\n",
       "    </tr>\n",
       "  </thead>\n",
       "  <tbody>\n",
       "    <tr>\n",
       "      <th>0</th>\n",
       "      <td>457.334015</td>\n",
       "      <td>BTC-USD</td>\n",
       "    </tr>\n",
       "    <tr>\n",
       "      <th>1</th>\n",
       "      <td>424.440002</td>\n",
       "      <td>BTC-USD</td>\n",
       "    </tr>\n",
       "    <tr>\n",
       "      <th>2</th>\n",
       "      <td>394.795990</td>\n",
       "      <td>BTC-USD</td>\n",
       "    </tr>\n",
       "    <tr>\n",
       "      <th>3</th>\n",
       "      <td>408.903992</td>\n",
       "      <td>BTC-USD</td>\n",
       "    </tr>\n",
       "    <tr>\n",
       "      <th>4</th>\n",
       "      <td>398.821014</td>\n",
       "      <td>BTC-USD</td>\n",
       "    </tr>\n",
       "    <tr>\n",
       "      <th>...</th>\n",
       "      <td>...</td>\n",
       "      <td>...</td>\n",
       "    </tr>\n",
       "    <tr>\n",
       "      <th>12762</th>\n",
       "      <td>61.488354</td>\n",
       "      <td>AVAX-USD</td>\n",
       "    </tr>\n",
       "    <tr>\n",
       "      <th>12763</th>\n",
       "      <td>60.520226</td>\n",
       "      <td>AVAX-USD</td>\n",
       "    </tr>\n",
       "    <tr>\n",
       "      <th>12764</th>\n",
       "      <td>60.566257</td>\n",
       "      <td>AVAX-USD</td>\n",
       "    </tr>\n",
       "    <tr>\n",
       "      <th>12765</th>\n",
       "      <td>56.593575</td>\n",
       "      <td>AVAX-USD</td>\n",
       "    </tr>\n",
       "    <tr>\n",
       "      <th>12766</th>\n",
       "      <td>55.304611</td>\n",
       "      <td>AVAX-USD</td>\n",
       "    </tr>\n",
       "  </tbody>\n",
       "</table>\n",
       "<p>10296 rows × 2 columns</p>\n",
       "</div>"
      ],
      "text/plain": [
       "            Close Crypto-USD\n",
       "0      457.334015    BTC-USD\n",
       "1      424.440002    BTC-USD\n",
       "2      394.795990    BTC-USD\n",
       "3      408.903992    BTC-USD\n",
       "4      398.821014    BTC-USD\n",
       "...           ...        ...\n",
       "12762   61.488354   AVAX-USD\n",
       "12763   60.520226   AVAX-USD\n",
       "12764   60.566257   AVAX-USD\n",
       "12765   56.593575   AVAX-USD\n",
       "12766   55.304611   AVAX-USD\n",
       "\n",
       "[10296 rows x 2 columns]"
      ]
     },
     "execution_count": 7,
     "metadata": {},
     "output_type": "execute_result"
    }
   ],
   "source": [
    "train"
   ]
  },
  {
   "cell_type": "code",
   "execution_count": 8,
   "id": "3502a761",
   "metadata": {},
   "outputs": [
    {
     "data": {
      "text/plain": [
       "[0.9569168328112613,\n",
       " 0.9559731378263865,\n",
       " 0.7811383367565484,\n",
       " 0.9212215809628679,\n",
       " -11.512322254194611,\n",
       " 0.766700747023203,\n",
       " 0.8962176884634908,\n",
       " 0.8971399750031659,\n",
       " 0.870331523881273,\n",
       " 0.7281715413792598]"
      ]
     },
     "execution_count": 8,
     "metadata": {},
     "output_type": "execute_result"
    }
   ],
   "source": [
    "r_square"
   ]
  },
  {
   "cell_type": "code",
   "execution_count": 9,
   "id": "c6673eef",
   "metadata": {},
   "outputs": [
    {
     "data": {
      "text/plain": [
       "[2670.4870728679907,\n",
       " 44.91785748591189,\n",
       " 38.76560173660028,\n",
       " 0.06352449362395239,\n",
       " 102.56604559846626,\n",
       " 0.08561395709631874,\n",
       " 5.043911520288794,\n",
       " 0.05097955760389261,\n",
       " 0.017096347789295356,\n",
       " 8.004742900530497]"
      ]
     },
     "execution_count": 9,
     "metadata": {},
     "output_type": "execute_result"
    }
   ],
   "source": [
    "rmse"
   ]
  },
  {
   "cell_type": "markdown",
   "id": "828a3bb9",
   "metadata": {},
   "source": [
    "# Creating DataFrame of the performance of LSTM in each Crypto"
   ]
  },
  {
   "cell_type": "code",
   "execution_count": 10,
   "id": "2b409acf",
   "metadata": {
    "scrolled": true
   },
   "outputs": [
    {
     "data": {
      "text/html": [
       "<div>\n",
       "<style scoped>\n",
       "    .dataframe tbody tr th:only-of-type {\n",
       "        vertical-align: middle;\n",
       "    }\n",
       "\n",
       "    .dataframe tbody tr th {\n",
       "        vertical-align: top;\n",
       "    }\n",
       "\n",
       "    .dataframe thead th {\n",
       "        text-align: right;\n",
       "    }\n",
       "</style>\n",
       "<table border=\"1\" class=\"dataframe\">\n",
       "  <thead>\n",
       "    <tr style=\"text-align: right;\">\n",
       "      <th></th>\n",
       "      <th>Crypto-USD</th>\n",
       "      <th>R_square</th>\n",
       "      <th>RMSE</th>\n",
       "    </tr>\n",
       "  </thead>\n",
       "  <tbody>\n",
       "    <tr>\n",
       "      <th>0</th>\n",
       "      <td>BTC-USD</td>\n",
       "      <td>0.956917</td>\n",
       "      <td>2670.487073</td>\n",
       "    </tr>\n",
       "    <tr>\n",
       "      <th>1</th>\n",
       "      <td>ETH-USD</td>\n",
       "      <td>0.955973</td>\n",
       "      <td>44.917857</td>\n",
       "    </tr>\n",
       "    <tr>\n",
       "      <th>2</th>\n",
       "      <td>BNB-USD</td>\n",
       "      <td>0.781138</td>\n",
       "      <td>38.765602</td>\n",
       "    </tr>\n",
       "    <tr>\n",
       "      <th>3</th>\n",
       "      <td>ADA-USD</td>\n",
       "      <td>0.921222</td>\n",
       "      <td>0.063524</td>\n",
       "    </tr>\n",
       "    <tr>\n",
       "      <th>4</th>\n",
       "      <td>SOL-USD</td>\n",
       "      <td>-11.512322</td>\n",
       "      <td>102.566046</td>\n",
       "    </tr>\n",
       "    <tr>\n",
       "      <th>5</th>\n",
       "      <td>XRP-USD</td>\n",
       "      <td>0.766701</td>\n",
       "      <td>0.085614</td>\n",
       "    </tr>\n",
       "    <tr>\n",
       "      <th>6</th>\n",
       "      <td>LUNA1-USD</td>\n",
       "      <td>0.896218</td>\n",
       "      <td>5.043912</td>\n",
       "    </tr>\n",
       "    <tr>\n",
       "      <th>7</th>\n",
       "      <td>DOT-USD</td>\n",
       "      <td>0.897140</td>\n",
       "      <td>0.050980</td>\n",
       "    </tr>\n",
       "    <tr>\n",
       "      <th>8</th>\n",
       "      <td>DOGE-USD</td>\n",
       "      <td>0.870332</td>\n",
       "      <td>0.017096</td>\n",
       "    </tr>\n",
       "    <tr>\n",
       "      <th>9</th>\n",
       "      <td>AVAX-USD</td>\n",
       "      <td>0.728172</td>\n",
       "      <td>8.004743</td>\n",
       "    </tr>\n",
       "  </tbody>\n",
       "</table>\n",
       "</div>"
      ],
      "text/plain": [
       "  Crypto-USD   R_square         RMSE\n",
       "0    BTC-USD   0.956917  2670.487073\n",
       "1    ETH-USD   0.955973    44.917857\n",
       "2    BNB-USD   0.781138    38.765602\n",
       "3    ADA-USD   0.921222     0.063524\n",
       "4    SOL-USD -11.512322   102.566046\n",
       "5    XRP-USD   0.766701     0.085614\n",
       "6  LUNA1-USD   0.896218     5.043912\n",
       "7    DOT-USD   0.897140     0.050980\n",
       "8   DOGE-USD   0.870332     0.017096\n",
       "9   AVAX-USD   0.728172     8.004743"
      ]
     },
     "execution_count": 10,
     "metadata": {},
     "output_type": "execute_result"
    }
   ],
   "source": [
    "dictionary = {'Crypto-USD':list(df['Crypto-USD'].unique()),'R_square': r_square,\"RMSE\":rmse}\n",
    "performance = pd.DataFrame(dictionary)\n",
    "performance"
   ]
  },
  {
   "cell_type": "code",
   "execution_count": 11,
   "id": "cc2e4156",
   "metadata": {},
   "outputs": [
    {
     "data": {
      "text/html": [
       "<div>\n",
       "<style scoped>\n",
       "    .dataframe tbody tr th:only-of-type {\n",
       "        vertical-align: middle;\n",
       "    }\n",
       "\n",
       "    .dataframe tbody tr th {\n",
       "        vertical-align: top;\n",
       "    }\n",
       "\n",
       "    .dataframe thead th {\n",
       "        text-align: right;\n",
       "    }\n",
       "</style>\n",
       "<table border=\"1\" class=\"dataframe\">\n",
       "  <thead>\n",
       "    <tr style=\"text-align: right;\">\n",
       "      <th></th>\n",
       "      <th>Close</th>\n",
       "      <th>Predictions</th>\n",
       "      <th>Crypto-USD</th>\n",
       "    </tr>\n",
       "  </thead>\n",
       "  <tbody>\n",
       "    <tr>\n",
       "      <th>2143</th>\n",
       "      <td>11111.213867</td>\n",
       "      <td>10944.210938</td>\n",
       "      <td>BTC-USD</td>\n",
       "    </tr>\n",
       "    <tr>\n",
       "      <th>2144</th>\n",
       "      <td>11323.466797</td>\n",
       "      <td>10951.977539</td>\n",
       "      <td>BTC-USD</td>\n",
       "    </tr>\n",
       "    <tr>\n",
       "      <th>2145</th>\n",
       "      <td>11759.592773</td>\n",
       "      <td>11141.704102</td>\n",
       "      <td>BTC-USD</td>\n",
       "    </tr>\n",
       "    <tr>\n",
       "      <th>2146</th>\n",
       "      <td>11053.614258</td>\n",
       "      <td>11554.143555</td>\n",
       "      <td>BTC-USD</td>\n",
       "    </tr>\n",
       "    <tr>\n",
       "      <th>2147</th>\n",
       "      <td>11246.348633</td>\n",
       "      <td>10952.218750</td>\n",
       "      <td>BTC-USD</td>\n",
       "    </tr>\n",
       "    <tr>\n",
       "      <th>...</th>\n",
       "      <td>...</td>\n",
       "      <td>...</td>\n",
       "      <td>...</td>\n",
       "    </tr>\n",
       "    <tr>\n",
       "      <th>12858</th>\n",
       "      <td>89.501816</td>\n",
       "      <td>77.348267</td>\n",
       "      <td>AVAX-USD</td>\n",
       "    </tr>\n",
       "    <tr>\n",
       "      <th>12859</th>\n",
       "      <td>95.823509</td>\n",
       "      <td>78.119026</td>\n",
       "      <td>AVAX-USD</td>\n",
       "    </tr>\n",
       "    <tr>\n",
       "      <th>12860</th>\n",
       "      <td>89.407883</td>\n",
       "      <td>81.647720</td>\n",
       "      <td>AVAX-USD</td>\n",
       "    </tr>\n",
       "    <tr>\n",
       "      <th>12861</th>\n",
       "      <td>90.340530</td>\n",
       "      <td>83.817398</td>\n",
       "      <td>AVAX-USD</td>\n",
       "    </tr>\n",
       "    <tr>\n",
       "      <th>12862</th>\n",
       "      <td>93.315819</td>\n",
       "      <td>85.196892</td>\n",
       "      <td>AVAX-USD</td>\n",
       "    </tr>\n",
       "  </tbody>\n",
       "</table>\n",
       "<p>2567 rows × 3 columns</p>\n",
       "</div>"
      ],
      "text/plain": [
       "              Close   Predictions Crypto-USD\n",
       "2143   11111.213867  10944.210938    BTC-USD\n",
       "2144   11323.466797  10951.977539    BTC-USD\n",
       "2145   11759.592773  11141.704102    BTC-USD\n",
       "2146   11053.614258  11554.143555    BTC-USD\n",
       "2147   11246.348633  10952.218750    BTC-USD\n",
       "...             ...           ...        ...\n",
       "12858     89.501816     77.348267   AVAX-USD\n",
       "12859     95.823509     78.119026   AVAX-USD\n",
       "12860     89.407883     81.647720   AVAX-USD\n",
       "12861     90.340530     83.817398   AVAX-USD\n",
       "12862     93.315819     85.196892   AVAX-USD\n",
       "\n",
       "[2567 rows x 3 columns]"
      ]
     },
     "execution_count": 11,
     "metadata": {},
     "output_type": "execute_result"
    }
   ],
   "source": [
    "valid"
   ]
  },
  {
   "cell_type": "markdown",
   "id": "aeadcf66",
   "metadata": {},
   "source": [
    "# Saving to csv"
   ]
  },
  {
   "cell_type": "code",
   "execution_count": 13,
   "id": "30bb9fbd",
   "metadata": {},
   "outputs": [],
   "source": [
    "performance.to_csv(r'C:\\Users\\user\\Desktop\\Dashboard\\data\\performance.csv')\n",
    "train.to_csv(r'C:\\Users\\user\\Desktop\\Dashboard\\data\\train.csv')\n",
    "valid.to_csv(r'C:\\Users\\user\\Desktop\\Dashboard\\data\\valid.csv')"
   ]
  },
  {
   "cell_type": "code",
   "execution_count": 16,
   "id": "047196bc",
   "metadata": {},
   "outputs": [
    {
     "data": {
      "application/vnd.plotly.v1+json": {
       "config": {
        "plotlyServerURL": "https://plot.ly"
       },
       "data": [
        {
         "name": "Closing Price",
         "type": "scatter",
         "x": [
          0,
          1,
          2,
          3,
          4,
          5,
          6,
          7,
          8,
          9,
          10,
          11,
          12,
          13,
          14,
          15,
          16,
          17,
          18,
          19,
          20,
          21,
          22,
          23,
          24,
          25,
          26,
          27,
          28,
          29,
          30,
          31,
          32,
          33,
          34,
          35,
          36,
          37,
          38,
          39,
          40,
          41,
          42,
          43,
          44,
          45,
          46,
          47,
          48,
          49,
          50,
          51,
          52,
          53,
          54,
          55,
          56,
          57,
          58,
          59,
          60,
          61,
          62,
          63,
          64,
          65,
          66,
          67,
          68,
          69,
          70,
          71,
          72,
          73,
          74,
          75,
          76,
          77,
          78,
          79,
          80,
          81,
          82,
          83,
          84,
          85,
          86,
          87,
          88,
          89,
          90,
          91,
          92,
          93,
          94,
          95,
          96,
          97,
          98,
          99,
          100,
          101,
          102,
          103,
          104,
          105,
          106,
          107,
          108,
          109,
          110,
          111,
          112,
          113,
          114,
          115,
          116,
          117,
          118,
          119,
          120,
          121,
          122,
          123,
          124,
          125,
          126,
          127,
          128,
          129,
          130,
          131,
          132,
          133,
          134,
          135,
          136,
          137,
          138,
          139,
          140,
          141,
          142,
          143,
          144,
          145,
          146,
          147,
          148,
          149,
          150,
          151,
          152,
          153,
          154,
          155,
          156,
          157,
          158,
          159,
          160,
          161,
          162,
          163,
          164,
          165,
          166,
          167,
          168,
          169,
          170,
          171,
          172,
          173,
          174,
          175,
          176,
          177,
          178,
          179,
          180,
          181,
          182,
          183,
          184,
          185,
          186,
          187,
          188,
          189,
          190,
          191,
          192,
          193,
          194,
          195,
          196,
          197,
          198,
          199,
          200,
          201,
          202,
          203,
          204,
          205,
          206,
          207,
          208,
          209,
          210,
          211,
          212,
          213,
          214,
          215,
          216,
          217,
          218,
          219,
          220,
          221,
          222,
          223,
          224,
          225,
          226,
          227,
          228,
          229,
          230,
          231,
          232,
          233,
          234,
          235,
          236,
          237,
          238,
          239,
          240,
          241,
          242,
          243,
          244,
          245,
          246,
          247,
          248,
          249,
          250,
          251,
          252,
          253,
          254,
          255,
          256,
          257,
          258,
          259,
          260,
          261,
          262,
          263,
          264,
          265,
          266,
          267,
          268,
          269,
          270,
          271,
          272,
          273,
          274,
          275,
          276,
          277,
          278,
          279,
          280,
          281,
          282,
          283,
          284,
          285,
          286,
          287,
          288,
          289,
          290,
          291,
          292,
          293,
          294,
          295,
          296,
          297,
          298,
          299,
          300,
          301,
          302,
          303,
          304
         ],
         "y": [
          0.0576529987156391,
          0.0573830008506774,
          0.0583279989659786,
          0.0589610002934932,
          0.0572340004146099,
          0.0549620017409324,
          0.0535559989511966,
          0.0517020002007484,
          0.0514479987323284,
          0.0539520010352134,
          0.0543770007789135,
          0.0536979995667934,
          0.054051999002695,
          0.0538999997079372,
          0.0536569990217685,
          0.0619859993457794,
          0.0576639994978904,
          0.0558039993047714,
          0.0574040003120899,
          0.0596960000693798,
          0.0644579976797103,
          0.0590279996395111,
          0.061464000493288,
          0.061684001237154,
          0.0638450011610984,
          0.0746489986777305,
          0.0707670003175735,
          0.0934450030326843,
          0.12151700258255,
          0.1822070032358169,
          0.3658699989318847,
          0.2841730117797851,
          0.3204750120639801,
          0.4073179960250854,
          0.3194999992847442,
          0.3069249987602234,
          0.2609669864177704,
          0.2485090047121048,
          0.2702119946479797,
          0.2511110007762909,
          0.2706739902496338,
          0.2721880078315735,
          0.3236820101737976,
          0.3051689863204956,
          0.3375610113143921,
          0.3929870128631592,
          0.3760460019111633,
          0.4417069852352142,
          0.5413339734077454,
          0.6576330065727234,
          0.5808039903640747,
          0.684777021408081,
          0.6364390254020691,
          0.5700700283050537,
          0.4499639868736267,
          0.4952310025691986,
          0.3853760063648224,
          0.4903739988803863,
          0.5596039891242981,
          0.507972002029419,
          0.5148950219154358,
          0.4878920018672943,
          0.4761149883270263,
          0.3331229984760284,
          0.400193989276886,
          0.3593820035457611,
          0.3423709869384765,
          0.3080709874629974,
          0.3661620020866394,
          0.3463020026683807,
          0.3536930084228515,
          0.3329449892044067,
          0.3112049996852875,
          0.3031100034713745,
          0.3022240102291107,
          0.3258099853992462,
          0.3700770139694214,
          0.4233739972114563,
          0.3999629914760589,
          0.3763230144977569,
          0.3721770048141479,
          0.3718070089817047,
          0.3310500085353851,
          0.327686995267868,
          0.3433310091495514,
          0.32635098695755,
          0.3193590044975281,
          0.3120839893817901,
          0.3243820071220398,
          0.3320850133895874,
          0.3283810019493103,
          0.307761013507843,
          0.3064959943294525,
          0.2934719920158386,
          0.2873559892177582,
          0.2809000015258789,
          0.1786909997463226,
          0.1910309940576553,
          0.2321739941835403,
          0.2627820074558258,
          0.2391529977321624,
          0.2447839975357055,
          0.2644500136375427,
          0.2568570077419281,
          0.2627690136432647,
          0.2542150020599365,
          0.2445490062236786,
          0.2452639937400818,
          0.246410995721817,
          0.2464829981327057,
          0.2316139936447143,
          0.2344219982624054,
          0.2241259962320327,
          0.2075970023870468,
          0.2198639959096908,
          0.213919997215271,
          0.2158560007810592,
          0.2080480009317398,
          0.2000029981136322,
          0.1973239928483963,
          0.1848880052566528,
          0.1723449975252151,
          0.1861249953508377,
          0.1822330057621002,
          0.1735559999942779,
          0.1708009988069534,
          0.1903489977121353,
          0.1913029998540878,
          0.1947640031576156,
          0.1973190009593963,
          0.1978639960289001,
          0.2044190019369125,
          0.2058990001678466,
          0.2053920030593872,
          0.2046190053224563,
          0.2088209986686706,
          0.2083140015602111,
          0.2044370025396347,
          0.2036000043153762,
          0.1959670037031173,
          0.2014899998903274,
          0.2009740024805069,
          0.2046879976987838,
          0.2603409886360168,
          0.2400449961423874,
          0.2568970024585724,
          0.2573249936103821,
          0.2652629911899566,
          0.2639209926128387,
          0.2868080139160156,
          0.2931129932403564,
          0.3414410054683685,
          0.3207150101661682,
          0.2994419932365417,
          0.3037390112876892,
          0.3171440064907074,
          0.3274909853935241,
          0.3167969882488251,
          0.3149630129337311,
          0.3179140090942383,
          0.2887389957904815,
          0.2922259867191314,
          0.2689090073108673,
          0.2944329977035522,
          0.285629004240036,
          0.281125009059906,
          0.2721250057220459,
          0.27845299243927,
          0.2944009900093078,
          0.2959550023078918,
          0.2962729930877685,
          0.2993879914283752,
          0.3145270049571991,
          0.3087649941444397,
          0.2537440061569214,
          0.2571130096912384,
          0.252595990896225,
          0.2399819940328598,
          0.2414319962263107,
          0.2506169974803924,
          0.2359060049057006,
          0.2407090067863464,
          0.2476969957351684,
          0.2425550073385238,
          0.2399300038814544,
          0.2413859963417053,
          0.233142003417015,
          0.2070710062980651,
          0.2010270059108734,
          0.2248580008745193,
          0.224831998348236,
          0.2094510048627853,
          0.208639994263649,
          0.2049620002508163,
          0.2002619951963424,
          0.1968040019273758,
          0.1988759934902191,
          0.204244002699852,
          0.2230100035667419,
          0.2191330045461654,
          0.2217479944229126,
          0.2408519983291626,
          0.252016007900238,
          0.2551339864730835,
          0.2429230064153671,
          0.2438510060310363,
          0.2465959936380386,
          0.2298049926757812,
          0.2315029948949813,
          0.2262420058250427,
          0.232572004199028,
          0.2322729974985122,
          0.2337819933891296,
          0.237292006611824,
          0.2378980070352554,
          0.2472810000181198,
          0.2457879930734634,
          0.2540929913520813,
          0.2423910051584243,
          0.2442210018634796,
          0.2517330050468445,
          0.2770479917526245,
          0.2647069990634918,
          0.255731999874115,
          0.2376900017261505,
          0.3004469871520996,
          0.2878530025482178,
          0.2683449983596802,
          0.2802439928054809,
          0.2717280089855194,
          0.2731209993362427,
          0.2694070041179657,
          0.2632800042629242,
          0.2614650130271911,
          0.261898010969162,
          0.2663150131702423,
          0.2823590040206909,
          0.2735260128974914,
          0.2557089924812317,
          0.2611669898033142,
          0.2594139873981476,
          0.261705994606018,
          0.2629120051860809,
          0.2565290033817291,
          0.2372490018606186,
          0.2374870032072067,
          0.2213830053806305,
          0.2331099957227707,
          0.233024001121521,
          0.2263280004262924,
          0.2196760028600692,
          0.226511999964714,
          0.2218250036239624,
          0.2163259983062744,
          0.200886994600296,
          0.2053470015525818,
          0.2074719965457916,
          0.2151750028133392,
          0.2147150039672851,
          0.2094870060682296,
          0.2097260057926178,
          0.1999929994344711,
          0.1788530051708221,
          0.1712550073862075,
          0.1783999949693679,
          0.1768050044775009,
          0.1791509985923767,
          0.1694840043783188,
          0.1644220054149627,
          0.1690189987421035,
          0.1698909997940063,
          0.1575649976730346,
          0.1801570057868957,
          0.1810819953680038,
          0.173454001545906,
          0.1690099984407425,
          0.1723999977111816,
          0.1695760041475296,
          0.1673219949007034,
          0.1711750030517578,
          0.1732140034437179,
          0.1844899952411651,
          0.1866219937801361,
          0.1906570047140121,
          0.1900199949741363,
          0.1877049952745437,
          0.1741169989109039,
          0.1677650064229965,
          0.171313002705574,
          0.1704960018396377,
          0.1730349957942962,
          0.1744029968976974,
          0.170087993144989,
          0.1688030064105987,
          0.1594199985265731,
          0.1602129936218261,
          0.155022993683815,
          0.1519539952278137,
          0.1510650068521499,
          0.1433590054512024,
          0.1533990055322647,
          0.161651998758316,
          0.1720429956912994,
          0.1835490018129348,
          0.1851029992103576
         ]
        },
        {
         "name": "Prediction",
         "type": "scatter",
         "y": [
          0.05583719536662102,
          0.05548117309808731,
          0.055103838443756104,
          0.0552239865064621,
          0.055696431547403336,
          0.05547182634472847,
          0.05430150032043457,
          0.05277827009558678,
          0.05103680491447449,
          0.049811843782663345,
          0.05016932263970375,
          0.05106528848409653,
          0.051592063158750534,
          0.05198654159903526,
          0.05214592069387436,
          0.05207911133766174,
          0.055072758346796036,
          0.05619095638394356,
          0.05565338209271431,
          0.05538041517138481,
          0.05607777461409569,
          0.0585421621799469,
          0.05854276940226555,
          0.05873697251081467,
          0.05894240736961365,
          0.05985215678811073,
          0.06465746462345123,
          0.06731242686510086,
          0.07689135521650314,
          0.09539269655942917,
          0.13254821300506592,
          0.23199622333049774,
          0.2776838541030884,
          0.30403146147727966,
          0.3458126187324524,
          0.33756688237190247,
          0.31237372756004333,
          0.2725306451320648,
          0.23866137862205505,
          0.22799533605575562,
          0.22129856050014496,
          0.22748751938343048,
          0.23678135871887207,
          0.2645854949951172,
          0.2800562083721161,
          0.2992686629295349,
          0.3332120180130005,
          0.3503361642360687,
          0.381183922290802,
          0.44083335995674133,
          0.5276172757148743,
          0.5532246828079224,
          0.5911409854888916,
          0.5930723547935486,
          0.5568491220474243,
          0.47721216082572937,
          0.43557098507881165,
          0.37765100598335266,
          0.3820759952068329,
          0.42977434396743774,
          0.4521346092224121,
          0.46413105726242065,
          0.45854809880256653,
          0.44618692994117737,
          0.38164326548576355,
          0.3557966649532318,
          0.33450546860694885,
          0.3180588483810425,
          0.2978349030017853,
          0.30862221121788025,
          0.31689390540122986,
          0.32545334100723267,
          0.32318150997161865,
          0.31066757440567017,
          0.2970488369464874,
          0.28794094920158386,
          0.2927420139312744,
          0.3166898787021637,
          0.35717061161994934,
          0.3765407204627991,
          0.37280476093292236,
          0.3615231513977051,
          0.3512120544910431,
          0.3285616338253021,
          0.31013569235801697,
          0.3061830401420593,
          0.30152034759521484,
          0.29664042592048645,
          0.2914678454399109,
          0.2935901880264282,
          0.3002568185329437,
          0.3044770359992981,
          0.29862180352211,
          0.291933536529541,
          0.2824864089488983,
          0.2736935615539551,
          0.2661599814891815,
          0.22299373149871826,
          0.19223280251026154,
          0.19271506369113922,
          0.2143017053604126,
          0.2254578322172165,
          0.23248235881328583,
          0.24328039586544037,
          0.24766923487186432,
          0.25049686431884766,
          0.24789570271968842,
          0.24057750403881073,
          0.23464369773864746,
          0.23152472078800201,
          0.2303268164396286,
          0.2244434952735901,
          0.22077828645706177,
          0.21525496244430542,
          0.205215185880661,
          0.20274481177330017,
          0.201214000582695,
          0.20162829756736755,
          0.1996762901544571,
          0.1949472874403,
          0.1903591752052307,
          0.18289202451705933,
          0.17284202575683594,
          0.17134496569633484,
          0.17147061228752136,
          0.16898773610591888,
          0.16589230298995972,
          0.1713831126689911,
          0.177560955286026,
          0.18296359479427338,
          0.18695983290672302,
          0.18901997804641724,
          0.19198553264141083,
          0.19431890547275543,
          0.19512346386909485,
          0.194657564163208,
          0.19542387127876282,
          0.19587357342243195,
          0.19448791444301605,
          0.19275657832622528,
          0.18863403797149658,
          0.18759259581565857,
          0.18765003979206085,
          0.18955130875110626,
          0.21279512345790863,
          0.2250562161207199,
          0.2361575961112976,
          0.2423020750284195,
          0.2472345232963562,
          0.24878711998462677,
          0.2571830153465271,
          0.266112744808197,
          0.29019486904144287,
          0.30031850934028625,
          0.29415005445480347,
          0.28707846999168396,
          0.2871159017086029,
          0.29279619455337524,
          0.29362136125564575,
          0.29225820302963257,
          0.29201969504356384,
          0.2809299826622009,
          0.2728731334209442,
          0.25991418957710266,
          0.261018306016922,
          0.26244908571243286,
          0.2623012065887451,
          0.2587178647518158,
          0.25832292437553406,
          0.2652584910392761,
          0.2721892297267914,
          0.2766259014606476,
          0.27975645661354065,
          0.28693464398384094,
          0.28982439637184143,
          0.2689083516597748,
          0.25091829895973206,
          0.238698348402977,
          0.22819894552230835,
          0.22336435317993164,
          0.22608566284179688,
          0.22475005686283112,
          0.22522173821926117,
          0.22894908487796783,
          0.23029781877994537,
          0.22954513132572174,
          0.22900564968585968,
          0.22543759644031525,
          0.21232815086841583,
          0.19933228194713593,
          0.20050784945487976,
          0.2052718549966812,
          0.20365667343139648,
          0.20084699988365173,
          0.19740474224090576,
          0.19333899021148682,
          0.1893860399723053,
          0.18784433603286743,
          0.18970391154289246,
          0.19909702241420746,
          0.20549827814102173,
          0.2096170037984848,
          0.21865710616111755,
          0.22951969504356384,
          0.23754273355007172,
          0.23654493689537048,
          0.23337242007255554,
          0.2314058095216751,
          0.2237570583820343,
          0.2181149125099182,
          0.21316781640052795,
          0.2129562944173813,
          0.2142549753189087,
          0.21635322272777557,
          0.21943898499011993,
          0.22197046875953674,
          0.22705039381980896,
          0.23023872077465057,
          0.23482012748718262,
          0.2333143949508667,
          0.2313084751367569,
          0.23263448476791382,
          0.24401956796646118,
          0.24884144961833954,
          0.24653737246990204,
          0.23601874709129333,
          0.2514323592185974,
          0.2627038359642029,
          0.26109763979911804,
          0.2610965371131897,
          0.25785550475120544,
          0.2553974986076355,
          0.2525717318058014,
          0.24841910600662231,
          0.2449365258216858,
          0.24330978095531464,
          0.24472926557064056,
          0.25284042954444885,
          0.25633642077445984,
          0.25047385692596436,
          0.24642916023731232,
          0.24362899363040924,
          0.2431778609752655,
          0.24409785866737366,
          0.24268774688243866,
          0.23387302458286285,
          0.2266552448272705,
          0.21653002500534058,
          0.2142840176820755,
          0.21526740491390228,
          0.2145550698041916,
          0.21139641106128693,
          0.21158239245414734,
          0.2108858823776245,
          0.20821110904216766,
          0.2001449167728424,
          0.19545599818229675,
          0.1943284124135971,
          0.19771385192871094,
          0.20100824534893036,
          0.20110999047756195,
          0.2003781497478485,
          0.1958584487438202,
          0.1838671714067459,
          0.1714899241924286,
          0.16649922728538513,
          0.16505403816699982,
          0.16641075909137726,
          0.16465631127357483,
          0.1610243171453476,
          0.16011996567249298,
          0.16071142256259918,
          0.1568705141544342,
          0.16194656491279602,
          0.1678611934185028,
          0.1688627451658249,
          0.16632883250713348,
          0.1648748815059662,
          0.16300535202026367,
          0.1607830971479416,
          0.16073594987392426,
          0.16207532584667206,
          0.16763141751289368,
          0.17304980754852295,
          0.1778855323791504,
          0.18033568561077118,
          0.18011371791362762,
          0.17382106184959412,
          0.16566863656044006,
          0.1613648682832718,
          0.15949906408786774,
          0.16019251942634583,
          0.1620788425207138,
          0.1621260941028595,
          0.16129016876220703,
          0.1569986641407013,
          0.1537306010723114,
          0.15003666281700134,
          0.14655916392803192,
          0.14424175024032593,
          0.14033100008964539,
          0.14143723249435425,
          0.14677970111370087,
          0.15537507832050323,
          0.1660538613796234
         ]
        }
       ],
       "layout": {
        "legend": {
         "title": {
          "text": "Legend"
         }
        },
        "template": {
         "data": {
          "bar": [
           {
            "error_x": {
             "color": "#2a3f5f"
            },
            "error_y": {
             "color": "#2a3f5f"
            },
            "marker": {
             "line": {
              "color": "#E5ECF6",
              "width": 0.5
             },
             "pattern": {
              "fillmode": "overlay",
              "size": 10,
              "solidity": 0.2
             }
            },
            "type": "bar"
           }
          ],
          "barpolar": [
           {
            "marker": {
             "line": {
              "color": "#E5ECF6",
              "width": 0.5
             },
             "pattern": {
              "fillmode": "overlay",
              "size": 10,
              "solidity": 0.2
             }
            },
            "type": "barpolar"
           }
          ],
          "carpet": [
           {
            "aaxis": {
             "endlinecolor": "#2a3f5f",
             "gridcolor": "white",
             "linecolor": "white",
             "minorgridcolor": "white",
             "startlinecolor": "#2a3f5f"
            },
            "baxis": {
             "endlinecolor": "#2a3f5f",
             "gridcolor": "white",
             "linecolor": "white",
             "minorgridcolor": "white",
             "startlinecolor": "#2a3f5f"
            },
            "type": "carpet"
           }
          ],
          "choropleth": [
           {
            "colorbar": {
             "outlinewidth": 0,
             "ticks": ""
            },
            "type": "choropleth"
           }
          ],
          "contour": [
           {
            "colorbar": {
             "outlinewidth": 0,
             "ticks": ""
            },
            "colorscale": [
             [
              0,
              "#0d0887"
             ],
             [
              0.1111111111111111,
              "#46039f"
             ],
             [
              0.2222222222222222,
              "#7201a8"
             ],
             [
              0.3333333333333333,
              "#9c179e"
             ],
             [
              0.4444444444444444,
              "#bd3786"
             ],
             [
              0.5555555555555556,
              "#d8576b"
             ],
             [
              0.6666666666666666,
              "#ed7953"
             ],
             [
              0.7777777777777778,
              "#fb9f3a"
             ],
             [
              0.8888888888888888,
              "#fdca26"
             ],
             [
              1,
              "#f0f921"
             ]
            ],
            "type": "contour"
           }
          ],
          "contourcarpet": [
           {
            "colorbar": {
             "outlinewidth": 0,
             "ticks": ""
            },
            "type": "contourcarpet"
           }
          ],
          "heatmap": [
           {
            "colorbar": {
             "outlinewidth": 0,
             "ticks": ""
            },
            "colorscale": [
             [
              0,
              "#0d0887"
             ],
             [
              0.1111111111111111,
              "#46039f"
             ],
             [
              0.2222222222222222,
              "#7201a8"
             ],
             [
              0.3333333333333333,
              "#9c179e"
             ],
             [
              0.4444444444444444,
              "#bd3786"
             ],
             [
              0.5555555555555556,
              "#d8576b"
             ],
             [
              0.6666666666666666,
              "#ed7953"
             ],
             [
              0.7777777777777778,
              "#fb9f3a"
             ],
             [
              0.8888888888888888,
              "#fdca26"
             ],
             [
              1,
              "#f0f921"
             ]
            ],
            "type": "heatmap"
           }
          ],
          "heatmapgl": [
           {
            "colorbar": {
             "outlinewidth": 0,
             "ticks": ""
            },
            "colorscale": [
             [
              0,
              "#0d0887"
             ],
             [
              0.1111111111111111,
              "#46039f"
             ],
             [
              0.2222222222222222,
              "#7201a8"
             ],
             [
              0.3333333333333333,
              "#9c179e"
             ],
             [
              0.4444444444444444,
              "#bd3786"
             ],
             [
              0.5555555555555556,
              "#d8576b"
             ],
             [
              0.6666666666666666,
              "#ed7953"
             ],
             [
              0.7777777777777778,
              "#fb9f3a"
             ],
             [
              0.8888888888888888,
              "#fdca26"
             ],
             [
              1,
              "#f0f921"
             ]
            ],
            "type": "heatmapgl"
           }
          ],
          "histogram": [
           {
            "marker": {
             "pattern": {
              "fillmode": "overlay",
              "size": 10,
              "solidity": 0.2
             }
            },
            "type": "histogram"
           }
          ],
          "histogram2d": [
           {
            "colorbar": {
             "outlinewidth": 0,
             "ticks": ""
            },
            "colorscale": [
             [
              0,
              "#0d0887"
             ],
             [
              0.1111111111111111,
              "#46039f"
             ],
             [
              0.2222222222222222,
              "#7201a8"
             ],
             [
              0.3333333333333333,
              "#9c179e"
             ],
             [
              0.4444444444444444,
              "#bd3786"
             ],
             [
              0.5555555555555556,
              "#d8576b"
             ],
             [
              0.6666666666666666,
              "#ed7953"
             ],
             [
              0.7777777777777778,
              "#fb9f3a"
             ],
             [
              0.8888888888888888,
              "#fdca26"
             ],
             [
              1,
              "#f0f921"
             ]
            ],
            "type": "histogram2d"
           }
          ],
          "histogram2dcontour": [
           {
            "colorbar": {
             "outlinewidth": 0,
             "ticks": ""
            },
            "colorscale": [
             [
              0,
              "#0d0887"
             ],
             [
              0.1111111111111111,
              "#46039f"
             ],
             [
              0.2222222222222222,
              "#7201a8"
             ],
             [
              0.3333333333333333,
              "#9c179e"
             ],
             [
              0.4444444444444444,
              "#bd3786"
             ],
             [
              0.5555555555555556,
              "#d8576b"
             ],
             [
              0.6666666666666666,
              "#ed7953"
             ],
             [
              0.7777777777777778,
              "#fb9f3a"
             ],
             [
              0.8888888888888888,
              "#fdca26"
             ],
             [
              1,
              "#f0f921"
             ]
            ],
            "type": "histogram2dcontour"
           }
          ],
          "mesh3d": [
           {
            "colorbar": {
             "outlinewidth": 0,
             "ticks": ""
            },
            "type": "mesh3d"
           }
          ],
          "parcoords": [
           {
            "line": {
             "colorbar": {
              "outlinewidth": 0,
              "ticks": ""
             }
            },
            "type": "parcoords"
           }
          ],
          "pie": [
           {
            "automargin": true,
            "type": "pie"
           }
          ],
          "scatter": [
           {
            "marker": {
             "colorbar": {
              "outlinewidth": 0,
              "ticks": ""
             }
            },
            "type": "scatter"
           }
          ],
          "scatter3d": [
           {
            "line": {
             "colorbar": {
              "outlinewidth": 0,
              "ticks": ""
             }
            },
            "marker": {
             "colorbar": {
              "outlinewidth": 0,
              "ticks": ""
             }
            },
            "type": "scatter3d"
           }
          ],
          "scattercarpet": [
           {
            "marker": {
             "colorbar": {
              "outlinewidth": 0,
              "ticks": ""
             }
            },
            "type": "scattercarpet"
           }
          ],
          "scattergeo": [
           {
            "marker": {
             "colorbar": {
              "outlinewidth": 0,
              "ticks": ""
             }
            },
            "type": "scattergeo"
           }
          ],
          "scattergl": [
           {
            "marker": {
             "colorbar": {
              "outlinewidth": 0,
              "ticks": ""
             }
            },
            "type": "scattergl"
           }
          ],
          "scattermapbox": [
           {
            "marker": {
             "colorbar": {
              "outlinewidth": 0,
              "ticks": ""
             }
            },
            "type": "scattermapbox"
           }
          ],
          "scatterpolar": [
           {
            "marker": {
             "colorbar": {
              "outlinewidth": 0,
              "ticks": ""
             }
            },
            "type": "scatterpolar"
           }
          ],
          "scatterpolargl": [
           {
            "marker": {
             "colorbar": {
              "outlinewidth": 0,
              "ticks": ""
             }
            },
            "type": "scatterpolargl"
           }
          ],
          "scatterternary": [
           {
            "marker": {
             "colorbar": {
              "outlinewidth": 0,
              "ticks": ""
             }
            },
            "type": "scatterternary"
           }
          ],
          "surface": [
           {
            "colorbar": {
             "outlinewidth": 0,
             "ticks": ""
            },
            "colorscale": [
             [
              0,
              "#0d0887"
             ],
             [
              0.1111111111111111,
              "#46039f"
             ],
             [
              0.2222222222222222,
              "#7201a8"
             ],
             [
              0.3333333333333333,
              "#9c179e"
             ],
             [
              0.4444444444444444,
              "#bd3786"
             ],
             [
              0.5555555555555556,
              "#d8576b"
             ],
             [
              0.6666666666666666,
              "#ed7953"
             ],
             [
              0.7777777777777778,
              "#fb9f3a"
             ],
             [
              0.8888888888888888,
              "#fdca26"
             ],
             [
              1,
              "#f0f921"
             ]
            ],
            "type": "surface"
           }
          ],
          "table": [
           {
            "cells": {
             "fill": {
              "color": "#EBF0F8"
             },
             "line": {
              "color": "white"
             }
            },
            "header": {
             "fill": {
              "color": "#C8D4E3"
             },
             "line": {
              "color": "white"
             }
            },
            "type": "table"
           }
          ]
         },
         "layout": {
          "annotationdefaults": {
           "arrowcolor": "#2a3f5f",
           "arrowhead": 0,
           "arrowwidth": 1
          },
          "autotypenumbers": "strict",
          "coloraxis": {
           "colorbar": {
            "outlinewidth": 0,
            "ticks": ""
           }
          },
          "colorscale": {
           "diverging": [
            [
             0,
             "#8e0152"
            ],
            [
             0.1,
             "#c51b7d"
            ],
            [
             0.2,
             "#de77ae"
            ],
            [
             0.3,
             "#f1b6da"
            ],
            [
             0.4,
             "#fde0ef"
            ],
            [
             0.5,
             "#f7f7f7"
            ],
            [
             0.6,
             "#e6f5d0"
            ],
            [
             0.7,
             "#b8e186"
            ],
            [
             0.8,
             "#7fbc41"
            ],
            [
             0.9,
             "#4d9221"
            ],
            [
             1,
             "#276419"
            ]
           ],
           "sequential": [
            [
             0,
             "#0d0887"
            ],
            [
             0.1111111111111111,
             "#46039f"
            ],
            [
             0.2222222222222222,
             "#7201a8"
            ],
            [
             0.3333333333333333,
             "#9c179e"
            ],
            [
             0.4444444444444444,
             "#bd3786"
            ],
            [
             0.5555555555555556,
             "#d8576b"
            ],
            [
             0.6666666666666666,
             "#ed7953"
            ],
            [
             0.7777777777777778,
             "#fb9f3a"
            ],
            [
             0.8888888888888888,
             "#fdca26"
            ],
            [
             1,
             "#f0f921"
            ]
           ],
           "sequentialminus": [
            [
             0,
             "#0d0887"
            ],
            [
             0.1111111111111111,
             "#46039f"
            ],
            [
             0.2222222222222222,
             "#7201a8"
            ],
            [
             0.3333333333333333,
             "#9c179e"
            ],
            [
             0.4444444444444444,
             "#bd3786"
            ],
            [
             0.5555555555555556,
             "#d8576b"
            ],
            [
             0.6666666666666666,
             "#ed7953"
            ],
            [
             0.7777777777777778,
             "#fb9f3a"
            ],
            [
             0.8888888888888888,
             "#fdca26"
            ],
            [
             1,
             "#f0f921"
            ]
           ]
          },
          "colorway": [
           "#636efa",
           "#EF553B",
           "#00cc96",
           "#ab63fa",
           "#FFA15A",
           "#19d3f3",
           "#FF6692",
           "#B6E880",
           "#FF97FF",
           "#FECB52"
          ],
          "font": {
           "color": "#2a3f5f"
          },
          "geo": {
           "bgcolor": "white",
           "lakecolor": "white",
           "landcolor": "#E5ECF6",
           "showlakes": true,
           "showland": true,
           "subunitcolor": "white"
          },
          "hoverlabel": {
           "align": "left"
          },
          "hovermode": "closest",
          "mapbox": {
           "style": "light"
          },
          "paper_bgcolor": "white",
          "plot_bgcolor": "#E5ECF6",
          "polar": {
           "angularaxis": {
            "gridcolor": "white",
            "linecolor": "white",
            "ticks": ""
           },
           "bgcolor": "#E5ECF6",
           "radialaxis": {
            "gridcolor": "white",
            "linecolor": "white",
            "ticks": ""
           }
          },
          "scene": {
           "xaxis": {
            "backgroundcolor": "#E5ECF6",
            "gridcolor": "white",
            "gridwidth": 2,
            "linecolor": "white",
            "showbackground": true,
            "ticks": "",
            "zerolinecolor": "white"
           },
           "yaxis": {
            "backgroundcolor": "#E5ECF6",
            "gridcolor": "white",
            "gridwidth": 2,
            "linecolor": "white",
            "showbackground": true,
            "ticks": "",
            "zerolinecolor": "white"
           },
           "zaxis": {
            "backgroundcolor": "#E5ECF6",
            "gridcolor": "white",
            "gridwidth": 2,
            "linecolor": "white",
            "showbackground": true,
            "ticks": "",
            "zerolinecolor": "white"
           }
          },
          "shapedefaults": {
           "line": {
            "color": "#2a3f5f"
           }
          },
          "ternary": {
           "aaxis": {
            "gridcolor": "white",
            "linecolor": "white",
            "ticks": ""
           },
           "baxis": {
            "gridcolor": "white",
            "linecolor": "white",
            "ticks": ""
           },
           "bgcolor": "#E5ECF6",
           "caxis": {
            "gridcolor": "white",
            "linecolor": "white",
            "ticks": ""
           }
          },
          "title": {
           "x": 0.05
          },
          "xaxis": {
           "automargin": true,
           "gridcolor": "white",
           "linecolor": "white",
           "ticks": "",
           "title": {
            "standoff": 15
           },
           "zerolinecolor": "white",
           "zerolinewidth": 2
          },
          "yaxis": {
           "automargin": true,
           "gridcolor": "white",
           "linecolor": "white",
           "ticks": "",
           "title": {
            "standoff": 15
           },
           "zerolinecolor": "white",
           "zerolinewidth": 2
          }
         }
        }
       }
      },
      "text/html": [
       "<div>                            <div id=\"aed28fe5-c1cc-40ff-a225-baef0bc41f8e\" class=\"plotly-graph-div\" style=\"height:525px; width:100%;\"></div>            <script type=\"text/javascript\">                require([\"plotly\"], function(Plotly) {                    window.PLOTLYENV=window.PLOTLYENV || {};                                    if (document.getElementById(\"aed28fe5-c1cc-40ff-a225-baef0bc41f8e\")) {                    Plotly.newPlot(                        \"aed28fe5-c1cc-40ff-a225-baef0bc41f8e\",                        [{\"name\":\"Closing Price\",\"type\":\"scatter\",\"x\":[0,1,2,3,4,5,6,7,8,9,10,11,12,13,14,15,16,17,18,19,20,21,22,23,24,25,26,27,28,29,30,31,32,33,34,35,36,37,38,39,40,41,42,43,44,45,46,47,48,49,50,51,52,53,54,55,56,57,58,59,60,61,62,63,64,65,66,67,68,69,70,71,72,73,74,75,76,77,78,79,80,81,82,83,84,85,86,87,88,89,90,91,92,93,94,95,96,97,98,99,100,101,102,103,104,105,106,107,108,109,110,111,112,113,114,115,116,117,118,119,120,121,122,123,124,125,126,127,128,129,130,131,132,133,134,135,136,137,138,139,140,141,142,143,144,145,146,147,148,149,150,151,152,153,154,155,156,157,158,159,160,161,162,163,164,165,166,167,168,169,170,171,172,173,174,175,176,177,178,179,180,181,182,183,184,185,186,187,188,189,190,191,192,193,194,195,196,197,198,199,200,201,202,203,204,205,206,207,208,209,210,211,212,213,214,215,216,217,218,219,220,221,222,223,224,225,226,227,228,229,230,231,232,233,234,235,236,237,238,239,240,241,242,243,244,245,246,247,248,249,250,251,252,253,254,255,256,257,258,259,260,261,262,263,264,265,266,267,268,269,270,271,272,273,274,275,276,277,278,279,280,281,282,283,284,285,286,287,288,289,290,291,292,293,294,295,296,297,298,299,300,301,302,303,304],\"y\":[0.0576529987156391,0.0573830008506774,0.0583279989659786,0.0589610002934932,0.0572340004146099,0.0549620017409324,0.0535559989511966,0.0517020002007484,0.0514479987323284,0.0539520010352134,0.0543770007789135,0.0536979995667934,0.054051999002695,0.0538999997079372,0.0536569990217685,0.0619859993457794,0.0576639994978904,0.0558039993047714,0.0574040003120899,0.0596960000693798,0.0644579976797103,0.0590279996395111,0.061464000493288,0.061684001237154,0.0638450011610984,0.0746489986777305,0.0707670003175735,0.0934450030326843,0.12151700258255,0.1822070032358169,0.3658699989318847,0.2841730117797851,0.3204750120639801,0.4073179960250854,0.3194999992847442,0.3069249987602234,0.2609669864177704,0.2485090047121048,0.2702119946479797,0.2511110007762909,0.2706739902496338,0.2721880078315735,0.3236820101737976,0.3051689863204956,0.3375610113143921,0.3929870128631592,0.3760460019111633,0.4417069852352142,0.5413339734077454,0.6576330065727234,0.5808039903640747,0.684777021408081,0.6364390254020691,0.5700700283050537,0.4499639868736267,0.4952310025691986,0.3853760063648224,0.4903739988803863,0.5596039891242981,0.507972002029419,0.5148950219154358,0.4878920018672943,0.4761149883270263,0.3331229984760284,0.400193989276886,0.3593820035457611,0.3423709869384765,0.3080709874629974,0.3661620020866394,0.3463020026683807,0.3536930084228515,0.3329449892044067,0.3112049996852875,0.3031100034713745,0.3022240102291107,0.3258099853992462,0.3700770139694214,0.4233739972114563,0.3999629914760589,0.3763230144977569,0.3721770048141479,0.3718070089817047,0.3310500085353851,0.327686995267868,0.3433310091495514,0.32635098695755,0.3193590044975281,0.3120839893817901,0.3243820071220398,0.3320850133895874,0.3283810019493103,0.307761013507843,0.3064959943294525,0.2934719920158386,0.2873559892177582,0.2809000015258789,0.1786909997463226,0.1910309940576553,0.2321739941835403,0.2627820074558258,0.2391529977321624,0.2447839975357055,0.2644500136375427,0.2568570077419281,0.2627690136432647,0.2542150020599365,0.2445490062236786,0.2452639937400818,0.246410995721817,0.2464829981327057,0.2316139936447143,0.2344219982624054,0.2241259962320327,0.2075970023870468,0.2198639959096908,0.213919997215271,0.2158560007810592,0.2080480009317398,0.2000029981136322,0.1973239928483963,0.1848880052566528,0.1723449975252151,0.1861249953508377,0.1822330057621002,0.1735559999942779,0.1708009988069534,0.1903489977121353,0.1913029998540878,0.1947640031576156,0.1973190009593963,0.1978639960289001,0.2044190019369125,0.2058990001678466,0.2053920030593872,0.2046190053224563,0.2088209986686706,0.2083140015602111,0.2044370025396347,0.2036000043153762,0.1959670037031173,0.2014899998903274,0.2009740024805069,0.2046879976987838,0.2603409886360168,0.2400449961423874,0.2568970024585724,0.2573249936103821,0.2652629911899566,0.2639209926128387,0.2868080139160156,0.2931129932403564,0.3414410054683685,0.3207150101661682,0.2994419932365417,0.3037390112876892,0.3171440064907074,0.3274909853935241,0.3167969882488251,0.3149630129337311,0.3179140090942383,0.2887389957904815,0.2922259867191314,0.2689090073108673,0.2944329977035522,0.285629004240036,0.281125009059906,0.2721250057220459,0.27845299243927,0.2944009900093078,0.2959550023078918,0.2962729930877685,0.2993879914283752,0.3145270049571991,0.3087649941444397,0.2537440061569214,0.2571130096912384,0.252595990896225,0.2399819940328598,0.2414319962263107,0.2506169974803924,0.2359060049057006,0.2407090067863464,0.2476969957351684,0.2425550073385238,0.2399300038814544,0.2413859963417053,0.233142003417015,0.2070710062980651,0.2010270059108734,0.2248580008745193,0.224831998348236,0.2094510048627853,0.208639994263649,0.2049620002508163,0.2002619951963424,0.1968040019273758,0.1988759934902191,0.204244002699852,0.2230100035667419,0.2191330045461654,0.2217479944229126,0.2408519983291626,0.252016007900238,0.2551339864730835,0.2429230064153671,0.2438510060310363,0.2465959936380386,0.2298049926757812,0.2315029948949813,0.2262420058250427,0.232572004199028,0.2322729974985122,0.2337819933891296,0.237292006611824,0.2378980070352554,0.2472810000181198,0.2457879930734634,0.2540929913520813,0.2423910051584243,0.2442210018634796,0.2517330050468445,0.2770479917526245,0.2647069990634918,0.255731999874115,0.2376900017261505,0.3004469871520996,0.2878530025482178,0.2683449983596802,0.2802439928054809,0.2717280089855194,0.2731209993362427,0.2694070041179657,0.2632800042629242,0.2614650130271911,0.261898010969162,0.2663150131702423,0.2823590040206909,0.2735260128974914,0.2557089924812317,0.2611669898033142,0.2594139873981476,0.261705994606018,0.2629120051860809,0.2565290033817291,0.2372490018606186,0.2374870032072067,0.2213830053806305,0.2331099957227707,0.233024001121521,0.2263280004262924,0.2196760028600692,0.226511999964714,0.2218250036239624,0.2163259983062744,0.200886994600296,0.2053470015525818,0.2074719965457916,0.2151750028133392,0.2147150039672851,0.2094870060682296,0.2097260057926178,0.1999929994344711,0.1788530051708221,0.1712550073862075,0.1783999949693679,0.1768050044775009,0.1791509985923767,0.1694840043783188,0.1644220054149627,0.1690189987421035,0.1698909997940063,0.1575649976730346,0.1801570057868957,0.1810819953680038,0.173454001545906,0.1690099984407425,0.1723999977111816,0.1695760041475296,0.1673219949007034,0.1711750030517578,0.1732140034437179,0.1844899952411651,0.1866219937801361,0.1906570047140121,0.1900199949741363,0.1877049952745437,0.1741169989109039,0.1677650064229965,0.171313002705574,0.1704960018396377,0.1730349957942962,0.1744029968976974,0.170087993144989,0.1688030064105987,0.1594199985265731,0.1602129936218261,0.155022993683815,0.1519539952278137,0.1510650068521499,0.1433590054512024,0.1533990055322647,0.161651998758316,0.1720429956912994,0.1835490018129348,0.1851029992103576]},{\"name\":\"Prediction\",\"type\":\"scatter\",\"y\":[0.05583719536662102,0.05548117309808731,0.055103838443756104,0.0552239865064621,0.055696431547403336,0.05547182634472847,0.05430150032043457,0.05277827009558678,0.05103680491447449,0.049811843782663345,0.05016932263970375,0.05106528848409653,0.051592063158750534,0.05198654159903526,0.05214592069387436,0.05207911133766174,0.055072758346796036,0.05619095638394356,0.05565338209271431,0.05538041517138481,0.05607777461409569,0.0585421621799469,0.05854276940226555,0.05873697251081467,0.05894240736961365,0.05985215678811073,0.06465746462345123,0.06731242686510086,0.07689135521650314,0.09539269655942917,0.13254821300506592,0.23199622333049774,0.2776838541030884,0.30403146147727966,0.3458126187324524,0.33756688237190247,0.31237372756004333,0.2725306451320648,0.23866137862205505,0.22799533605575562,0.22129856050014496,0.22748751938343048,0.23678135871887207,0.2645854949951172,0.2800562083721161,0.2992686629295349,0.3332120180130005,0.3503361642360687,0.381183922290802,0.44083335995674133,0.5276172757148743,0.5532246828079224,0.5911409854888916,0.5930723547935486,0.5568491220474243,0.47721216082572937,0.43557098507881165,0.37765100598335266,0.3820759952068329,0.42977434396743774,0.4521346092224121,0.46413105726242065,0.45854809880256653,0.44618692994117737,0.38164326548576355,0.3557966649532318,0.33450546860694885,0.3180588483810425,0.2978349030017853,0.30862221121788025,0.31689390540122986,0.32545334100723267,0.32318150997161865,0.31066757440567017,0.2970488369464874,0.28794094920158386,0.2927420139312744,0.3166898787021637,0.35717061161994934,0.3765407204627991,0.37280476093292236,0.3615231513977051,0.3512120544910431,0.3285616338253021,0.31013569235801697,0.3061830401420593,0.30152034759521484,0.29664042592048645,0.2914678454399109,0.2935901880264282,0.3002568185329437,0.3044770359992981,0.29862180352211,0.291933536529541,0.2824864089488983,0.2736935615539551,0.2661599814891815,0.22299373149871826,0.19223280251026154,0.19271506369113922,0.2143017053604126,0.2254578322172165,0.23248235881328583,0.24328039586544037,0.24766923487186432,0.25049686431884766,0.24789570271968842,0.24057750403881073,0.23464369773864746,0.23152472078800201,0.2303268164396286,0.2244434952735901,0.22077828645706177,0.21525496244430542,0.205215185880661,0.20274481177330017,0.201214000582695,0.20162829756736755,0.1996762901544571,0.1949472874403,0.1903591752052307,0.18289202451705933,0.17284202575683594,0.17134496569633484,0.17147061228752136,0.16898773610591888,0.16589230298995972,0.1713831126689911,0.177560955286026,0.18296359479427338,0.18695983290672302,0.18901997804641724,0.19198553264141083,0.19431890547275543,0.19512346386909485,0.194657564163208,0.19542387127876282,0.19587357342243195,0.19448791444301605,0.19275657832622528,0.18863403797149658,0.18759259581565857,0.18765003979206085,0.18955130875110626,0.21279512345790863,0.2250562161207199,0.2361575961112976,0.2423020750284195,0.2472345232963562,0.24878711998462677,0.2571830153465271,0.266112744808197,0.29019486904144287,0.30031850934028625,0.29415005445480347,0.28707846999168396,0.2871159017086029,0.29279619455337524,0.29362136125564575,0.29225820302963257,0.29201969504356384,0.2809299826622009,0.2728731334209442,0.25991418957710266,0.261018306016922,0.26244908571243286,0.2623012065887451,0.2587178647518158,0.25832292437553406,0.2652584910392761,0.2721892297267914,0.2766259014606476,0.27975645661354065,0.28693464398384094,0.28982439637184143,0.2689083516597748,0.25091829895973206,0.238698348402977,0.22819894552230835,0.22336435317993164,0.22608566284179688,0.22475005686283112,0.22522173821926117,0.22894908487796783,0.23029781877994537,0.22954513132572174,0.22900564968585968,0.22543759644031525,0.21232815086841583,0.19933228194713593,0.20050784945487976,0.2052718549966812,0.20365667343139648,0.20084699988365173,0.19740474224090576,0.19333899021148682,0.1893860399723053,0.18784433603286743,0.18970391154289246,0.19909702241420746,0.20549827814102173,0.2096170037984848,0.21865710616111755,0.22951969504356384,0.23754273355007172,0.23654493689537048,0.23337242007255554,0.2314058095216751,0.2237570583820343,0.2181149125099182,0.21316781640052795,0.2129562944173813,0.2142549753189087,0.21635322272777557,0.21943898499011993,0.22197046875953674,0.22705039381980896,0.23023872077465057,0.23482012748718262,0.2333143949508667,0.2313084751367569,0.23263448476791382,0.24401956796646118,0.24884144961833954,0.24653737246990204,0.23601874709129333,0.2514323592185974,0.2627038359642029,0.26109763979911804,0.2610965371131897,0.25785550475120544,0.2553974986076355,0.2525717318058014,0.24841910600662231,0.2449365258216858,0.24330978095531464,0.24472926557064056,0.25284042954444885,0.25633642077445984,0.25047385692596436,0.24642916023731232,0.24362899363040924,0.2431778609752655,0.24409785866737366,0.24268774688243866,0.23387302458286285,0.2266552448272705,0.21653002500534058,0.2142840176820755,0.21526740491390228,0.2145550698041916,0.21139641106128693,0.21158239245414734,0.2108858823776245,0.20821110904216766,0.2001449167728424,0.19545599818229675,0.1943284124135971,0.19771385192871094,0.20100824534893036,0.20110999047756195,0.2003781497478485,0.1958584487438202,0.1838671714067459,0.1714899241924286,0.16649922728538513,0.16505403816699982,0.16641075909137726,0.16465631127357483,0.1610243171453476,0.16011996567249298,0.16071142256259918,0.1568705141544342,0.16194656491279602,0.1678611934185028,0.1688627451658249,0.16632883250713348,0.1648748815059662,0.16300535202026367,0.1607830971479416,0.16073594987392426,0.16207532584667206,0.16763141751289368,0.17304980754852295,0.1778855323791504,0.18033568561077118,0.18011371791362762,0.17382106184959412,0.16566863656044006,0.1613648682832718,0.15949906408786774,0.16019251942634583,0.1620788425207138,0.1621260941028595,0.16129016876220703,0.1569986641407013,0.1537306010723114,0.15003666281700134,0.14655916392803192,0.14424175024032593,0.14033100008964539,0.14143723249435425,0.14677970111370087,0.15537507832050323,0.1660538613796234]}],                        {\"legend\":{\"title\":{\"text\":\"Legend\"}},\"template\":{\"data\":{\"bar\":[{\"error_x\":{\"color\":\"#2a3f5f\"},\"error_y\":{\"color\":\"#2a3f5f\"},\"marker\":{\"line\":{\"color\":\"#E5ECF6\",\"width\":0.5},\"pattern\":{\"fillmode\":\"overlay\",\"size\":10,\"solidity\":0.2}},\"type\":\"bar\"}],\"barpolar\":[{\"marker\":{\"line\":{\"color\":\"#E5ECF6\",\"width\":0.5},\"pattern\":{\"fillmode\":\"overlay\",\"size\":10,\"solidity\":0.2}},\"type\":\"barpolar\"}],\"carpet\":[{\"aaxis\":{\"endlinecolor\":\"#2a3f5f\",\"gridcolor\":\"white\",\"linecolor\":\"white\",\"minorgridcolor\":\"white\",\"startlinecolor\":\"#2a3f5f\"},\"baxis\":{\"endlinecolor\":\"#2a3f5f\",\"gridcolor\":\"white\",\"linecolor\":\"white\",\"minorgridcolor\":\"white\",\"startlinecolor\":\"#2a3f5f\"},\"type\":\"carpet\"}],\"choropleth\":[{\"colorbar\":{\"outlinewidth\":0,\"ticks\":\"\"},\"type\":\"choropleth\"}],\"contour\":[{\"colorbar\":{\"outlinewidth\":0,\"ticks\":\"\"},\"colorscale\":[[0.0,\"#0d0887\"],[0.1111111111111111,\"#46039f\"],[0.2222222222222222,\"#7201a8\"],[0.3333333333333333,\"#9c179e\"],[0.4444444444444444,\"#bd3786\"],[0.5555555555555556,\"#d8576b\"],[0.6666666666666666,\"#ed7953\"],[0.7777777777777778,\"#fb9f3a\"],[0.8888888888888888,\"#fdca26\"],[1.0,\"#f0f921\"]],\"type\":\"contour\"}],\"contourcarpet\":[{\"colorbar\":{\"outlinewidth\":0,\"ticks\":\"\"},\"type\":\"contourcarpet\"}],\"heatmap\":[{\"colorbar\":{\"outlinewidth\":0,\"ticks\":\"\"},\"colorscale\":[[0.0,\"#0d0887\"],[0.1111111111111111,\"#46039f\"],[0.2222222222222222,\"#7201a8\"],[0.3333333333333333,\"#9c179e\"],[0.4444444444444444,\"#bd3786\"],[0.5555555555555556,\"#d8576b\"],[0.6666666666666666,\"#ed7953\"],[0.7777777777777778,\"#fb9f3a\"],[0.8888888888888888,\"#fdca26\"],[1.0,\"#f0f921\"]],\"type\":\"heatmap\"}],\"heatmapgl\":[{\"colorbar\":{\"outlinewidth\":0,\"ticks\":\"\"},\"colorscale\":[[0.0,\"#0d0887\"],[0.1111111111111111,\"#46039f\"],[0.2222222222222222,\"#7201a8\"],[0.3333333333333333,\"#9c179e\"],[0.4444444444444444,\"#bd3786\"],[0.5555555555555556,\"#d8576b\"],[0.6666666666666666,\"#ed7953\"],[0.7777777777777778,\"#fb9f3a\"],[0.8888888888888888,\"#fdca26\"],[1.0,\"#f0f921\"]],\"type\":\"heatmapgl\"}],\"histogram\":[{\"marker\":{\"pattern\":{\"fillmode\":\"overlay\",\"size\":10,\"solidity\":0.2}},\"type\":\"histogram\"}],\"histogram2d\":[{\"colorbar\":{\"outlinewidth\":0,\"ticks\":\"\"},\"colorscale\":[[0.0,\"#0d0887\"],[0.1111111111111111,\"#46039f\"],[0.2222222222222222,\"#7201a8\"],[0.3333333333333333,\"#9c179e\"],[0.4444444444444444,\"#bd3786\"],[0.5555555555555556,\"#d8576b\"],[0.6666666666666666,\"#ed7953\"],[0.7777777777777778,\"#fb9f3a\"],[0.8888888888888888,\"#fdca26\"],[1.0,\"#f0f921\"]],\"type\":\"histogram2d\"}],\"histogram2dcontour\":[{\"colorbar\":{\"outlinewidth\":0,\"ticks\":\"\"},\"colorscale\":[[0.0,\"#0d0887\"],[0.1111111111111111,\"#46039f\"],[0.2222222222222222,\"#7201a8\"],[0.3333333333333333,\"#9c179e\"],[0.4444444444444444,\"#bd3786\"],[0.5555555555555556,\"#d8576b\"],[0.6666666666666666,\"#ed7953\"],[0.7777777777777778,\"#fb9f3a\"],[0.8888888888888888,\"#fdca26\"],[1.0,\"#f0f921\"]],\"type\":\"histogram2dcontour\"}],\"mesh3d\":[{\"colorbar\":{\"outlinewidth\":0,\"ticks\":\"\"},\"type\":\"mesh3d\"}],\"parcoords\":[{\"line\":{\"colorbar\":{\"outlinewidth\":0,\"ticks\":\"\"}},\"type\":\"parcoords\"}],\"pie\":[{\"automargin\":true,\"type\":\"pie\"}],\"scatter\":[{\"marker\":{\"colorbar\":{\"outlinewidth\":0,\"ticks\":\"\"}},\"type\":\"scatter\"}],\"scatter3d\":[{\"line\":{\"colorbar\":{\"outlinewidth\":0,\"ticks\":\"\"}},\"marker\":{\"colorbar\":{\"outlinewidth\":0,\"ticks\":\"\"}},\"type\":\"scatter3d\"}],\"scattercarpet\":[{\"marker\":{\"colorbar\":{\"outlinewidth\":0,\"ticks\":\"\"}},\"type\":\"scattercarpet\"}],\"scattergeo\":[{\"marker\":{\"colorbar\":{\"outlinewidth\":0,\"ticks\":\"\"}},\"type\":\"scattergeo\"}],\"scattergl\":[{\"marker\":{\"colorbar\":{\"outlinewidth\":0,\"ticks\":\"\"}},\"type\":\"scattergl\"}],\"scattermapbox\":[{\"marker\":{\"colorbar\":{\"outlinewidth\":0,\"ticks\":\"\"}},\"type\":\"scattermapbox\"}],\"scatterpolar\":[{\"marker\":{\"colorbar\":{\"outlinewidth\":0,\"ticks\":\"\"}},\"type\":\"scatterpolar\"}],\"scatterpolargl\":[{\"marker\":{\"colorbar\":{\"outlinewidth\":0,\"ticks\":\"\"}},\"type\":\"scatterpolargl\"}],\"scatterternary\":[{\"marker\":{\"colorbar\":{\"outlinewidth\":0,\"ticks\":\"\"}},\"type\":\"scatterternary\"}],\"surface\":[{\"colorbar\":{\"outlinewidth\":0,\"ticks\":\"\"},\"colorscale\":[[0.0,\"#0d0887\"],[0.1111111111111111,\"#46039f\"],[0.2222222222222222,\"#7201a8\"],[0.3333333333333333,\"#9c179e\"],[0.4444444444444444,\"#bd3786\"],[0.5555555555555556,\"#d8576b\"],[0.6666666666666666,\"#ed7953\"],[0.7777777777777778,\"#fb9f3a\"],[0.8888888888888888,\"#fdca26\"],[1.0,\"#f0f921\"]],\"type\":\"surface\"}],\"table\":[{\"cells\":{\"fill\":{\"color\":\"#EBF0F8\"},\"line\":{\"color\":\"white\"}},\"header\":{\"fill\":{\"color\":\"#C8D4E3\"},\"line\":{\"color\":\"white\"}},\"type\":\"table\"}]},\"layout\":{\"annotationdefaults\":{\"arrowcolor\":\"#2a3f5f\",\"arrowhead\":0,\"arrowwidth\":1},\"autotypenumbers\":\"strict\",\"coloraxis\":{\"colorbar\":{\"outlinewidth\":0,\"ticks\":\"\"}},\"colorscale\":{\"diverging\":[[0,\"#8e0152\"],[0.1,\"#c51b7d\"],[0.2,\"#de77ae\"],[0.3,\"#f1b6da\"],[0.4,\"#fde0ef\"],[0.5,\"#f7f7f7\"],[0.6,\"#e6f5d0\"],[0.7,\"#b8e186\"],[0.8,\"#7fbc41\"],[0.9,\"#4d9221\"],[1,\"#276419\"]],\"sequential\":[[0.0,\"#0d0887\"],[0.1111111111111111,\"#46039f\"],[0.2222222222222222,\"#7201a8\"],[0.3333333333333333,\"#9c179e\"],[0.4444444444444444,\"#bd3786\"],[0.5555555555555556,\"#d8576b\"],[0.6666666666666666,\"#ed7953\"],[0.7777777777777778,\"#fb9f3a\"],[0.8888888888888888,\"#fdca26\"],[1.0,\"#f0f921\"]],\"sequentialminus\":[[0.0,\"#0d0887\"],[0.1111111111111111,\"#46039f\"],[0.2222222222222222,\"#7201a8\"],[0.3333333333333333,\"#9c179e\"],[0.4444444444444444,\"#bd3786\"],[0.5555555555555556,\"#d8576b\"],[0.6666666666666666,\"#ed7953\"],[0.7777777777777778,\"#fb9f3a\"],[0.8888888888888888,\"#fdca26\"],[1.0,\"#f0f921\"]]},\"colorway\":[\"#636efa\",\"#EF553B\",\"#00cc96\",\"#ab63fa\",\"#FFA15A\",\"#19d3f3\",\"#FF6692\",\"#B6E880\",\"#FF97FF\",\"#FECB52\"],\"font\":{\"color\":\"#2a3f5f\"},\"geo\":{\"bgcolor\":\"white\",\"lakecolor\":\"white\",\"landcolor\":\"#E5ECF6\",\"showlakes\":true,\"showland\":true,\"subunitcolor\":\"white\"},\"hoverlabel\":{\"align\":\"left\"},\"hovermode\":\"closest\",\"mapbox\":{\"style\":\"light\"},\"paper_bgcolor\":\"white\",\"plot_bgcolor\":\"#E5ECF6\",\"polar\":{\"angularaxis\":{\"gridcolor\":\"white\",\"linecolor\":\"white\",\"ticks\":\"\"},\"bgcolor\":\"#E5ECF6\",\"radialaxis\":{\"gridcolor\":\"white\",\"linecolor\":\"white\",\"ticks\":\"\"}},\"scene\":{\"xaxis\":{\"backgroundcolor\":\"#E5ECF6\",\"gridcolor\":\"white\",\"gridwidth\":2,\"linecolor\":\"white\",\"showbackground\":true,\"ticks\":\"\",\"zerolinecolor\":\"white\"},\"yaxis\":{\"backgroundcolor\":\"#E5ECF6\",\"gridcolor\":\"white\",\"gridwidth\":2,\"linecolor\":\"white\",\"showbackground\":true,\"ticks\":\"\",\"zerolinecolor\":\"white\"},\"zaxis\":{\"backgroundcolor\":\"#E5ECF6\",\"gridcolor\":\"white\",\"gridwidth\":2,\"linecolor\":\"white\",\"showbackground\":true,\"ticks\":\"\",\"zerolinecolor\":\"white\"}},\"shapedefaults\":{\"line\":{\"color\":\"#2a3f5f\"}},\"ternary\":{\"aaxis\":{\"gridcolor\":\"white\",\"linecolor\":\"white\",\"ticks\":\"\"},\"baxis\":{\"gridcolor\":\"white\",\"linecolor\":\"white\",\"ticks\":\"\"},\"bgcolor\":\"#E5ECF6\",\"caxis\":{\"gridcolor\":\"white\",\"linecolor\":\"white\",\"ticks\":\"\"}},\"title\":{\"x\":0.05},\"xaxis\":{\"automargin\":true,\"gridcolor\":\"white\",\"linecolor\":\"white\",\"ticks\":\"\",\"title\":{\"standoff\":15},\"zerolinecolor\":\"white\",\"zerolinewidth\":2},\"yaxis\":{\"automargin\":true,\"gridcolor\":\"white\",\"linecolor\":\"white\",\"ticks\":\"\",\"title\":{\"standoff\":15},\"zerolinecolor\":\"white\",\"zerolinewidth\":2}}}},                        {\"responsive\": true}                    ).then(function(){\n",
       "                            \n",
       "var gd = document.getElementById('aed28fe5-c1cc-40ff-a225-baef0bc41f8e');\n",
       "var x = new MutationObserver(function (mutations, observer) {{\n",
       "        var display = window.getComputedStyle(gd).display;\n",
       "        if (!display || display === 'none') {{\n",
       "            console.log([gd, 'removed!']);\n",
       "            Plotly.purge(gd);\n",
       "            observer.disconnect();\n",
       "        }}\n",
       "}});\n",
       "\n",
       "// Listen for the removal of the full notebook cells\n",
       "var notebookContainer = gd.closest('#notebook-container');\n",
       "if (notebookContainer) {{\n",
       "    x.observe(notebookContainer, {childList: true});\n",
       "}}\n",
       "\n",
       "// Listen for the clearing of the current output cell\n",
       "var outputEl = gd.closest('.output');\n",
       "if (outputEl) {{\n",
       "    x.observe(outputEl, {childList: true});\n",
       "}}\n",
       "\n",
       "                        })                };                });            </script>        </div>"
      ]
     },
     "metadata": {},
     "output_type": "display_data"
    }
   ],
   "source": [
    "\n",
    "import plotly.express as px\n",
    "import plotly.graph_objects as go\n",
    "valid1 = valid[valid['Crypto-USD'] == 'DOGE-USD']\n",
    "fig = go.Figure()\n",
    "fig.add_trace(go.Scatter(x=list(range(len(valid1['Close']))), y=list(valid1['Close']), name='Closing Price'))\n",
    "fig.add_trace(go.Scatter(y=list(valid1['Predictions']), name='Prediction'))\n",
    "fig.update_layout(legend_title_text='Legend')"
   ]
  },
  {
   "cell_type": "code",
   "execution_count": null,
   "id": "b60c66b2",
   "metadata": {},
   "outputs": [],
   "source": [
    "len(list(valid1['Close']))"
   ]
  },
  {
   "cell_type": "code",
   "execution_count": null,
   "id": "7148abde",
   "metadata": {},
   "outputs": [],
   "source": []
  },
  {
   "cell_type": "code",
   "execution_count": null,
   "id": "bbf6b19f",
   "metadata": {},
   "outputs": [],
   "source": []
  },
  {
   "cell_type": "code",
   "execution_count": null,
   "id": "6825a6f1",
   "metadata": {},
   "outputs": [],
   "source": []
  }
 ],
 "metadata": {
  "kernelspec": {
   "display_name": "Python 3",
   "language": "python",
   "name": "python3"
  },
  "language_info": {
   "codemirror_mode": {
    "name": "ipython",
    "version": 3
   },
   "file_extension": ".py",
   "mimetype": "text/x-python",
   "name": "python",
   "nbconvert_exporter": "python",
   "pygments_lexer": "ipython3",
   "version": "3.8.8"
  }
 },
 "nbformat": 4,
 "nbformat_minor": 5
}
